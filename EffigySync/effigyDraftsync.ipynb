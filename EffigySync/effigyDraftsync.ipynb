{
 "cells": [
  {
   "cell_type": "code",
   "execution_count": 1,
   "metadata": {},
   "outputs": [],
   "source": [
    "#effigy sync process\n",
    "\n",
    "import os\n",
    "from datetime import datetime\n",
    "from PIL import Image \n",
    "import glob\n",
    "import ntpath\n",
    "\n",
    "import mysql.connector\n",
    "from mysql.connector import errorcode\n",
    "import logging\n",
    "\n",
    "\n",
    "logging.basicConfig(level=logging.DEBUG, filename='effigySync.log', format='%(asctime)s %(name)s %(levelname)s:%(message)s')\n",
    "logger = logging.getLogger(__name__)\n"
   ]
  },
  {
   "cell_type": "code",
   "execution_count": 2,
   "metadata": {},
   "outputs": [],
   "source": [
    "\n",
    "#SOURCEPATH='Y:/server/EFFIGY_PICS'\n",
    "SOURCEPATH='Y:/server/EFFIGY_PICS2'\n",
    "#SOURCEPATH = 'C:/Users/user/Pictures'\n"
   ]
  },
  {
   "cell_type": "code",
   "execution_count": 3,
   "metadata": {},
   "outputs": [],
   "source": [
    "def fixSlashes(val):\n",
    "    val = val.replace('\\\\', '/')\n",
    "    return val   \n"
   ]
  },
  {
   "cell_type": "code",
   "execution_count": 4,
   "metadata": {},
   "outputs": [],
   "source": [
    "def getDt():\n",
    "    now = datetime.now()\n",
    "    dt = now.strftime('%Y-%m-%d %H:%M:%S')\n",
    "    return(dt)\n"
   ]
  },
  {
   "cell_type": "code",
   "execution_count": 5,
   "metadata": {},
   "outputs": [
    {
     "data": {
      "text/plain": [
       "'2020-04-15 18:52:38'"
      ]
     },
     "execution_count": 5,
     "metadata": {},
     "output_type": "execute_result"
    }
   ],
   "source": [
    "getDt()"
   ]
  },
  {
   "cell_type": "code",
   "execution_count": 6,
   "metadata": {},
   "outputs": [],
   "source": [
    "\n",
    "a=set()\n",
    "#folders = []\n",
    "# r=root, d=directories, f = files\n",
    "for r, d, f in os.walk(SOURCEPATH):       \n",
    "    for f1 in f:\n",
    "        ext = os.path.splitext(f1)[1]\n",
    "        a.add(ext) "
   ]
  },
  {
   "cell_type": "code",
   "execution_count": 7,
   "metadata": {},
   "outputs": [],
   "source": [
    "def createThumbnailss(srcPath,destPath,size=120):\n",
    "    for infile in glob.glob(srcPath):\n",
    "        print(\"infile\",infile)\n",
    "        file, ext = os.path.splitext(infile)\n",
    "        print(file,ext)\n",
    "        print(destPath)\n",
    "        im = Image.open(infile)\n",
    "        im.thumbnail(size,size)\n",
    "        im.save(destPath + \"/thumbnail1.png\", \"PNG\")"
   ]
  },
  {
   "cell_type": "code",
   "execution_count": 8,
   "metadata": {},
   "outputs": [],
   "source": [
    "def createThumbnails(srcFile, destPath, basewidth = 30):\n",
    "    img = Image.open(srcFile)\n",
    "    file = ntpath.basename(srcFile)\n",
    "\n",
    "    wpercent = (basewidth/float(img.size[0]))\n",
    "    hsize = int((float(img.size[1])*float(wpercent)))\n",
    "    img = img.resize((basewidth,hsize), Image.ANTIALIAS)\n",
    "    destFile =  \"./\"+ file\n",
    "    img.save(destFile)\n",
    "    "
   ]
  },
  {
   "cell_type": "code",
   "execution_count": 9,
   "metadata": {},
   "outputs": [],
   "source": [
    "createThumbnails(\"Y:\\server\\EFFIGY_PICS2\\Zdjecia\\other/IMG_0132.jpg\",\"c:/temp\",)"
   ]
  },
  {
   "cell_type": "code",
   "execution_count": 10,
   "metadata": {},
   "outputs": [],
   "source": [
    "def getID(tbl,thisid, key,val):\n",
    "    try:\n",
    "        mydb = mysql.connector.connect(user='kogutc', password='Passw0rd',host='127.0.0.1',database='effigy',auth_plugin='mysql_native_password')\n",
    "        mycursor = mydb.cursor()\n",
    "        ssql = \"select \" + thisid + \" from \" +  tbl  + \" where \" + key + \"= %s\"\n",
    "        #print (ssql)\n",
    "        mycursor.execute(ssql, (val,))\n",
    "        rows = mycursor.fetchall()\n",
    "        columns = [desc[0] for desc in mycursor.description]\n",
    "        newid = []\n",
    "        for row in rows:\n",
    "            # we dont need json or column names only one row returned\n",
    "            #row = dict(zip(columns, row))\n",
    "            newid.append(row)\n",
    "    except Exception as err:\n",
    "        logger.error(err)\n",
    "        if err.errno == errorcode.ER_ACCESS_DENIED_ERROR:\n",
    "            custError = \"Something is wrong with your user name or password\"+val\n",
    "        elif err.errno == errorcode.ER_BAD_DB_ERROR:\n",
    "            custError = \"Database does not exists\"\n",
    "        else:\n",
    "            custError = err\n",
    "        print(custError)\n",
    "        logger.error(custError)\n",
    "        mycursor.close()\n",
    "        mydb.close()\n",
    "    else:\n",
    "        custError = \"getID - Completed OK!:\" + val\n",
    "        logger.info(custError)\n",
    "        mycursor.close()\n",
    "        mydb.close()\n",
    "        logger.info(\"getID DB Closed\"+ val)\n",
    "        # obejct is a tuple we retrieve only id\n",
    "        print(newid)\n",
    "        if len(newid) >= 1:\n",
    "            id = newid[0][0]\n",
    "        else:\n",
    "            id = -1\n",
    "        return (id)"
   ]
  },
  {
   "cell_type": "code",
   "execution_count": 11,
   "metadata": {},
   "outputs": [],
   "source": [
    "def getImageID(tbl,thisid, key,val,key2,val2):\n",
    "    try:\n",
    "        mydb = mysql.connector.connect(user='kogutc', password='Passw0rd',host='127.0.0.1',database='effigy',auth_plugin='mysql_native_password')\n",
    "        mycursor = mydb.cursor()\n",
    "        ssql = \"select \" + thisid + \" from \" +  tbl  + \" where \" + key + \"= %s and  \" + key2 + \"= %s\"\n",
    "        #print (ssql)\n",
    "        mycursor.execute(ssql, (fixSlashes(val),val2,))\n",
    "        rows = mycursor.fetchall()\n",
    "        columns = [desc[0] for desc in mycursor.description]\n",
    "        newid = []\n",
    "        for row in rows:\n",
    "            # we dont need json or column names only one row returned\n",
    "            #row = dict(zip(columns, row))\n",
    "            newid.append(row)\n",
    "    except Exception as err:\n",
    "        logger.error(err)\n",
    "        if err.errno == errorcode.ER_ACCESS_DENIED_ERROR:\n",
    "            custError = \"Something is wrong with your user name or password\"+val\n",
    "        elif err.errno == errorcode.ER_BAD_DB_ERROR:\n",
    "            custError = \"Database does not exists\"\n",
    "        else:\n",
    "            custError = err\n",
    "        print(custError)\n",
    "        logger.error(custError)\n",
    "        mycursor.close()\n",
    "        mydb.close()\n",
    "    else:\n",
    "        custError = \"getID - Completed OK!:\" + val\n",
    "        logger.info(custError)\n",
    "        mycursor.close()\n",
    "        mydb.close()\n",
    "        logger.info(\"getID DB Closed\"+ val)\n",
    "        # obejct is a tuple we retrieve only id\n",
    "        print(newid)\n",
    "        if len(newid) >= 1:\n",
    "            id = newid[0][0]\n",
    "        else:\n",
    "            id = -1\n",
    "        return (id)"
   ]
  },
  {
   "cell_type": "code",
   "execution_count": 12,
   "metadata": {},
   "outputs": [
    {
     "name": "stdout",
     "output_type": "stream",
     "text": [
      "[]\n"
     ]
    }
   ],
   "source": [
    "newid= getImageID(\"media\",\"media_id\", \"path\",\"c:\\\\\",\"name\",\"test.jpg\")"
   ]
  },
  {
   "cell_type": "code",
   "execution_count": 13,
   "metadata": {},
   "outputs": [],
   "source": [
    "def getValidExtensions():\n",
    "    try:\n",
    "        mydb = mysql.connector.connect(user='kogutc', password='Passw0rd',host='127.0.0.1',database='effigy',auth_plugin='mysql_native_password')\n",
    "        mycursor = mydb.cursor()\n",
    "        ssql = \"select extension from supported_ext order by 1\"\n",
    "        mycursor.execute(ssql)\n",
    "        rows = mycursor.fetchall()\n",
    "        columns = [desc[0] for desc in mycursor.description]\n",
    "        rec = []\n",
    "        for row in rows:\n",
    "            # we dont need json or column names only one row returned\n",
    "            #row = dict(zip(columns, row))\n",
    "            rec.append(row)\n",
    "    except Exception as err:\n",
    "        logger.error(err)\n",
    "        if err.errno == errorcode.ER_ACCESS_DENIED_ERROR:\n",
    "            custError = \"Something is wrong with your user name or password\"+val\n",
    "        elif err.errno == errorcode.ER_BAD_DB_ERROR:\n",
    "            custError = \"Database does not exists\"\n",
    "        else:\n",
    "            custError = err\n",
    "        print(custError)\n",
    "        logger.error(custError)\n",
    "        mycursor.close()\n",
    "        mydb.close()\n",
    "    else:\n",
    "        custError = \"getID - Completed OK!:\"\n",
    "        logger.info(custError)\n",
    "        mycursor.close()\n",
    "        mydb.close()\n",
    "        logger.info(\"getID DB Closed\")\n",
    "        # converting it to a SET, fast lookup\n",
    "        ext_set=set()  \n",
    "        for i in rec:\n",
    "            ext_set.add (i[0])\n",
    "        return (ext_set)"
   ]
  },
  {
   "cell_type": "code",
   "execution_count": 14,
   "metadata": {},
   "outputs": [],
   "source": [
    "def getSkipFolder():\n",
    "    try:\n",
    "        mydb = mysql.connector.connect(user='kogutc', password='Passw0rd',host='127.0.0.1',database='effigy',auth_plugin='mysql_native_password')\n",
    "        mycursor = mydb.cursor()\n",
    "        ssql = \"select skip_root from skip_root\"\n",
    "        mycursor.execute(ssql)\n",
    "        rows = mycursor.fetchall()\n",
    "        columns = [desc[0] for desc in mycursor.description]\n",
    "        rec = []\n",
    "        for row in rows:\n",
    "            # we dont need json or column names only one row returned\n",
    "            #row = dict(zip(columns, row))\n",
    "            rec.append(row)\n",
    "    except Exception as err:\n",
    "        logger.error(err)\n",
    "        if err.errno == errorcode.ER_ACCESS_DENIED_ERROR:\n",
    "            custError = \"Something is wrong with your user name or password\"+val\n",
    "        elif err.errno == errorcode.ER_BAD_DB_ERROR:\n",
    "            custError = \"Database does not exists\"\n",
    "        else:\n",
    "            custError = err\n",
    "        print(custError)\n",
    "        logger.error(custError)\n",
    "        mycursor.close()\n",
    "        mydb.close()\n",
    "    else:\n",
    "        custError = \"getID - Completed OK!:\"\n",
    "        logger.info(custError)\n",
    "        mycursor.close()\n",
    "        mydb.close()\n",
    "        logger.info(\"getID DB Closed\")\n",
    "        # converting it to a SET, fast lookup\n",
    "        _set=set()  \n",
    "        for i in rec:\n",
    "            _set.add (i[0])\n",
    "        return (_set)"
   ]
  },
  {
   "cell_type": "code",
   "execution_count": 15,
   "metadata": {},
   "outputs": [
    {
     "data": {
      "text/plain": [
       "{'Y:\\\\server\\\\EFFIGY_PICS2\\\\Zdjecia\\\\tomcat-ZDJECIA',\n",
       " 'Y:\\\\server\\\\EFFIGY_PICS\\\\Zdjecia\\\\tomcat-ZDJECIA'}"
      ]
     },
     "execution_count": 15,
     "metadata": {},
     "output_type": "execute_result"
    }
   ],
   "source": [
    "getSkipFolder()"
   ]
  },
  {
   "cell_type": "code",
   "execution_count": 16,
   "metadata": {},
   "outputs": [],
   "source": [
    "import functools \n",
    "import operator  \n",
    "def convertTuple(tup): \n",
    "    str1 =  ''.join(str(tup)) \n",
    "    return str1"
   ]
  },
  {
   "cell_type": "code",
   "execution_count": 17,
   "metadata": {},
   "outputs": [
    {
     "data": {
      "text/plain": [
       "{'.avi', '.jpeg', '.jpg', '.mov', '.mp3', '.mp4', '.mpg', '.png', '.wmv'}"
      ]
     },
     "execution_count": 17,
     "metadata": {},
     "output_type": "execute_result"
    }
   ],
   "source": [
    "#get valid extensions\n",
    "EXT = getValidExtensions()\n",
    "#  check\n",
    "'avi' in EXT\n",
    "EXT"
   ]
  },
  {
   "cell_type": "code",
   "execution_count": 18,
   "metadata": {},
   "outputs": [],
   "source": [
    "def insertRoot (root):\n",
    "    logger.info(\"Starting Request\")\n",
    "    try:\n",
    "        mydb = mysql.connector.connect(user='kogutc', password='Passw0rd',host='127.0.0.1',database='effigy',auth_plugin='mysql_native_password')\n",
    "        mycursor = mydb.cursor()\n",
    "        ssql = \"insert into loc_root values (null, %s)\"\n",
    "        root = fixSlashes(root)\n",
    "        #print (root)\n",
    "        mycursor.execute(ssql, (root,))\n",
    "        mydb.commit()\n",
    "        #get newly created ID\n",
    "        newid= getID(\"loc_root\",\"root_id\", \"root\",fixSlashes(root))\n",
    "    except Exception as err:\n",
    "        logger.error(err)\n",
    "        if err.errno == errorcode.ER_ACCESS_DENIED_ERROR:\n",
    "            custError = \"Something is wrong with your user name or password\"\n",
    "        elif err.errno == errorcode.ER_BAD_DB_ERROR:\n",
    "            custError = \"Database does not exists\"\n",
    "        else:\n",
    "            custError = err\n",
    "        print(custError)\n",
    "        logger.error(custError)\n",
    "        mycursor.close()\n",
    "        mydb.close()\n",
    "    else:\n",
    "        custError = \"Root-Completed OK!\"\n",
    "        logger.info(custError)\n",
    "        mycursor.close()\n",
    "        mydb.close()\n",
    "        logger.info(\"Root - DB Closed\")\n",
    "        return (newid)"
   ]
  },
  {
   "cell_type": "code",
   "execution_count": 19,
   "metadata": {},
   "outputs": [
    {
     "name": "stdout",
     "output_type": "stream",
     "text": [
      "[]\n"
     ]
    },
    {
     "data": {
      "text/plain": [
       "-1"
      ]
     },
     "execution_count": 19,
     "metadata": {},
     "output_type": "execute_result"
    }
   ],
   "source": [
    "getID(\"loc_folder\",\"folder_id\", \"folder_path\",\"C:ggg/Uffsssehhffrsggs/user/Pictures/2017-11111111111\")"
   ]
  },
  {
   "cell_type": "code",
   "execution_count": 20,
   "metadata": {},
   "outputs": [],
   "source": [
    "def insertFolder (root_id,root,folder,folderPath):\n",
    "    logger.info(\"Starting Request\")\n",
    "    try:\n",
    "        mydb = mysql.connector.connect(user='kogutc', password='Passw0rd',host='127.0.0.1',database='effigy',auth_plugin='mysql_native_password')\n",
    "        mycursor = mydb.cursor()\n",
    "        ssql = \"insert into loc_folder values (null,%s, %s,%s,%s)\"\n",
    "        root = fixSlashes(root)\n",
    "        folder = fixSlashes(folder)\n",
    "        folderPath = fixSlashes(folderPath)\n",
    "        #print (ssql)\n",
    "        mycursor.execute(ssql, (root_id,root,folder,folderPath,))\n",
    "        mydb.commit()\n",
    "        #get newly created ID\n",
    "        newid= getID(\"loc_folder\",\"folder_id\", \"folder_path\",fixSlashes(folderPath))\n",
    "    except Exception as err:\n",
    "        logger.error(err)\n",
    "        if err.errno == errorcode.ER_ACCESS_DENIED_ERROR:\n",
    "            custError = \"Something is wrong with your user name or password\"\n",
    "        elif err.errno == errorcode.ER_BAD_DB_ERROR:\n",
    "            custError = \"Database does not exists\"\n",
    "        else:\n",
    "            custError = err\n",
    "        print(custError)\n",
    "        logger.error(custError)\n",
    "        mycursor.close()\n",
    "        mydb.close()\n",
    "    else:\n",
    "        custError = \"Folder Completed OK!\"\n",
    "        logger.info(custError)\n",
    "        mycursor.close()\n",
    "        mydb.close()\n",
    "        logger.info(\"Folder check DB Closed\")\n",
    "        return (newid)"
   ]
  },
  {
   "cell_type": "code",
   "execution_count": 21,
   "metadata": {},
   "outputs": [],
   "source": [
    "def skipRoot(root):\n",
    "    skip=False\n",
    "    toSkip=\"Y:\\server\\EFFIGY_PICS\\Zdjecia\\\\tomcat-ZDJECIA\"\n",
    "    if len(root) >= len(toSkip):\n",
    "        if (fixSlashes(toSkip).upper() == fixSlashes(root[:len(toSkip)]).upper())  :\n",
    "            skip=True\n",
    "    #else:\n",
    "    #    print(\"not matching length\")\n",
    "    return(skip)"
   ]
  },
  {
   "cell_type": "code",
   "execution_count": 22,
   "metadata": {},
   "outputs": [],
   "source": [
    "def skipFolder(root):\n",
    "    skip=False\n",
    "    toSkip=getSkipFolder()\n",
    "    for folder in toSkip:\n",
    "        if len(root) >= len(folder):\n",
    "            print(folder)\n",
    "            print(fixSlashes(folder).upper())\n",
    "            print(fixSlashes(root[:len(folder)]).upper()) \n",
    "            if (fixSlashes(folder).upper() == fixSlashes(root[:len(folder)]).upper())  :\n",
    "                skip=True\n",
    "                return(skip)\n",
    "    return(skip)\n",
    "        \n"
   ]
  },
  {
   "cell_type": "code",
   "execution_count": 23,
   "metadata": {},
   "outputs": [
    {
     "name": "stdout",
     "output_type": "stream",
     "text": [
      "Y:\\server\\EFFIGY_PICS\\Zdjecia\\tomcat-ZDJECIA\n",
      "Y:/SERVER/EFFIGY_PICS/ZDJECIA/TOMCAT-ZDJECIA\n",
      "Y:/SERVER/EFFIGY_PICS2/ZDJECIA/TOMCAT-ZDJECI\n",
      "Y:\\server\\EFFIGY_PICS2\\Zdjecia\\tomcat-ZDJECIA\n",
      "Y:/SERVER/EFFIGY_PICS2/ZDJECIA/TOMCAT-ZDJECIA\n",
      "Y:/SERVER/EFFIGY_PICS2/ZDJECIA/TOMCAT-ZDJECIA\n"
     ]
    },
    {
     "data": {
      "text/plain": [
       "True"
      ]
     },
     "execution_count": 23,
     "metadata": {},
     "output_type": "execute_result"
    }
   ],
   "source": [
    "skipFolder(\"Y:\\server\\EFFIGY_PICS2/Zdjecia\\\\tomcat-ZDJECIA\")"
   ]
  },
  {
   "cell_type": "code",
   "execution_count": 24,
   "metadata": {},
   "outputs": [],
   "source": [
    "#newid = insertFolder(1, \"C:/Users/user/Pictures\",\"2017-1111\", \"C:ggg/Uffsssehhffrsggs/user/Pictures/2017-1221111111111\")\n",
    "#newid"
   ]
  },
  {
   "cell_type": "code",
   "execution_count": 25,
   "metadata": {},
   "outputs": [],
   "source": [
    "def inserImage (key,file_name,media_type,folder_id,path, parent_folder_id,parent_folder,attrib_id,ext):\n",
    "    logger.info(\"Saving image\")\n",
    "    print(key,file_name,media_type,folder_id,path, parent_folder_id,parent_folder,attrib_id,ext)\n",
    "    try:\n",
    "        mydb = mysql.connector.connect(user='kogutc', password='Passw0rd',host='127.0.0.1',database='effigy',auth_plugin='mysql_native_password')\n",
    "        mycursor = mydb.cursor()\n",
    "        ssql = \"insert into media values (null,%s,%s,%s,%s,%s,%s,%s,%s,%s,%s,%s,%s,%s)\"\n",
    "        path = fixSlashes(path)\n",
    "        parent_folder = fixSlashes(parent_folder)\n",
    "        #print (ssql)\n",
    "        mycursor.execute(ssql, ( key,file_name,media_type,folder_id,path,parent_folder_id,parent_folder,\"sDesc\",file_name,0,ext,getDt(),getDt()))\n",
    "        mydb.commit()\n",
    "        #get newly created ID\n",
    "        newid= getImageID(\"media\",\"media_id\", \"path\",path,\"name\",file_name)\n",
    "    except Exception as err:\n",
    "        logger.error(err)\n",
    "        if err.errno == errorcode.ER_ACCESS_DENIED_ERROR:\n",
    "            custError = \"Something is wrong with your user name or password\"\n",
    "        elif err.errno == errorcode.ER_BAD_DB_ERROR:\n",
    "            custError = \"Database does not exists\"\n",
    "        else:\n",
    "            custError = err\n",
    "        print(custError)\n",
    "        logger.error(custError)\n",
    "        mycursor.close()\n",
    "        mydb.close()\n",
    "    else:\n",
    "        custError = \"Folder Completed OK!\"\n",
    "        logger.info(custError)\n",
    "        mycursor.close()\n",
    "        mydb.close()\n",
    "        logger.info(\"Folder check DB Closed\")\n",
    "        return (newid)"
   ]
  },
  {
   "cell_type": "code",
   "execution_count": 26,
   "metadata": {},
   "outputs": [],
   "source": [
    "def importFoldersAndImages ():\n",
    "    #get Valid extensions first\n",
    "    c=0\n",
    "    EXT = getValidExtensions()\n",
    "    #  check\n",
    "    '' in EXT\n",
    "    print(EXT)\n",
    "    for r, d, f in os.walk(SOURCEPATH):\n",
    "        #print(\"dir\",d,r)\n",
    "        if len(d) >0:\n",
    "            if  skipRoot(r):\n",
    "                print(\"Skipped Root:\",r)\n",
    "            else:\n",
    "                idR = insertRoot(r)\n",
    "                #print(\"Processed Root:\",idR,r)\n",
    "                for dir in d:\n",
    "                    #print (\"will INSERT dir:\",idR,dir)\n",
    "                    #print(\"about to insert\", idR,r,dir,r + '/' + dir)\n",
    "                    idF = insertFolder(idR,r,dir,r + \"/\"+ dir)\n",
    "                    #print(\"Created folder\",idF)\n",
    "                    pth = r +\"/\"+dir\n",
    "                    #print(\"path\", pth)\n",
    "                    files = [f for f in os.listdir(pth) if os.path.isfile(os.path.join(pth,f))]\n",
    "                    for f in files:\n",
    "                        file_ext= os.path.splitext(f)[1].lower()\n",
    "                        if (file_ext in EXT):\n",
    "                            #print(\"Processing:\" + f)\n",
    "                            key=r +\"/\"+dir + \"/\" + f\n",
    "                            #inserImage(file_name,media_type,folder_id,path, parent_folder_id,parent_folder,attrib_id,ext):                       \n",
    "                            idM = inserImage(key,f,'P',idF, r +\"/\"+dir, idR,r,\"\",file_ext)\n",
    "                            #print(idM)\n",
    "                           \n",
    "    return(c)                    \n",
    "                    \n",
    "    \n",
    "                    \n",
    "                    \n",
    "                \n",
    "        \n",
    "    "
   ]
  },
  {
   "cell_type": "code",
   "execution_count": 27,
   "metadata": {
    "scrolled": true
   },
   "outputs": [
    {
     "name": "stdout",
     "output_type": "stream",
     "text": [
      "{'.avi', '.mp4', '.jpeg', '.mov', '.jpg', '.mpg', '.mp3', '.png', '.wmv'}\n",
      "[(16,)]\n",
      "[(21,)]\n",
      "Y:/server/EFFIGY_PICS2/Zdjecia/20041008 001.JPG 20041008 001.JPG P 21 Y:/server/EFFIGY_PICS2/Zdjecia 16 Y:/server/EFFIGY_PICS2  .jpg\n",
      "[(31,)]\n",
      "Y:/server/EFFIGY_PICS2/Zdjecia/20041008 002.jpg 20041008 002.jpg P 21 Y:/server/EFFIGY_PICS2/Zdjecia 16 Y:/server/EFFIGY_PICS2  .jpg\n",
      "[(32,)]\n",
      "[(17,)]\n",
      "[(22,)]\n",
      "Y:/server/EFFIGY_PICS2\\Zdjecia/other/IMG_0025.jpg IMG_0025.jpg P 22 Y:/server/EFFIGY_PICS2\\Zdjecia/other 17 Y:/server/EFFIGY_PICS2\\Zdjecia  .jpg\n",
      "[(33,)]\n",
      "Y:/server/EFFIGY_PICS2\\Zdjecia/other/IMG_0028.jpg IMG_0028.jpg P 22 Y:/server/EFFIGY_PICS2\\Zdjecia/other 17 Y:/server/EFFIGY_PICS2\\Zdjecia  .jpg\n",
      "[(34,)]\n",
      "Y:/server/EFFIGY_PICS2\\Zdjecia/other/IMG_0131.jpg IMG_0131.jpg P 22 Y:/server/EFFIGY_PICS2\\Zdjecia/other 17 Y:/server/EFFIGY_PICS2\\Zdjecia  .jpg\n",
      "[(35,)]\n",
      "Y:/server/EFFIGY_PICS2\\Zdjecia/other/IMG_0132.jpg IMG_0132.jpg P 22 Y:/server/EFFIGY_PICS2\\Zdjecia/other 17 Y:/server/EFFIGY_PICS2\\Zdjecia  .jpg\n",
      "[(36,)]\n",
      "[(23,)]\n",
      "[(18,)]\n",
      "[(24,)]\n",
      "total: 0\n"
     ]
    }
   ],
   "source": [
    "c= importFoldersAndImages()\n",
    "print (\"total:\",c)"
   ]
  },
  {
   "cell_type": "code",
   "execution_count": 28,
   "metadata": {},
   "outputs": [],
   "source": [
    "def getImages():\n",
    "    try:\n",
    "        mydb = mysql.connector.connect(user='kogutc', password='Passw0rd',host='127.0.0.1',database='effigy',auth_plugin='mysql_native_password')\n",
    "        mycursor = mydb.cursor()\n",
    "        ssql = \"select media_id,path, name, media_key,media_type_id from media\"\n",
    "        #print (ssql)\n",
    "        mycursor.execute(ssql)\n",
    "        rows = mycursor.fetchall()\n",
    "        columns = [desc[0] for desc in mycursor.description]\n",
    "        rec = []\n",
    "        for row in rows:\n",
    "            # we dont need json or column names only one row returned\n",
    "            #row = dict(zip(columns, row))\n",
    "            rec.append(row)\n",
    "    except Exception as err:\n",
    "        logger.error(err)\n",
    "        if err.errno == errorcode.ER_ACCESS_DENIED_ERROR:\n",
    "            custError = \"Something is wrong with your user name or password\"+val\n",
    "        elif err.errno == errorcode.ER_BAD_DB_ERROR:\n",
    "            custError = \"Database does not exists\"\n",
    "        else:\n",
    "            custError = err\n",
    "        print(custError)\n",
    "        logger.error(custError)\n",
    "        mycursor.close()\n",
    "        mydb.close()\n",
    "    else:\n",
    "        custError = \"getID - Completed OK!:\"\n",
    "        logger.info(custError)\n",
    "        mycursor.close()\n",
    "        mydb.close()\n",
    "        logger.info(\"getID DB Closed\")\n",
    "        _set=set()  \n",
    "        for i in rec:\n",
    "            _set.add (i)\n",
    "        return (_set)"
   ]
  },
  {
   "cell_type": "code",
   "execution_count": 34,
   "metadata": {},
   "outputs": [],
   "source": [
    "def getImageExifAttributes(pth):\n",
    "    exif= {}\n",
    "    ex=\"\"\n",
    "    # Read image \n",
    "    img = Image.open(pth) \n",
    "    dic = img._getexif()\n",
    "    exif[\"WIDTH\"] =  str(dic.get(40963)) \n",
    "    exif[\"HEIGHT\"] = str( dic.get(40962))\n",
    "    exif[\"CAMERA\"] = str( dic.get(271))\n",
    "    exif[\"MODEL\"] =  str(dic.get(272))\n",
    "    exif[\"DTTAKEN\"] = str( dic.get(36868))\n",
    "    exif[\"DTMODIFY\"] = str( dic.get(36867))\n",
    "    exif[\"FSTOP\"] =  str(dic.get(42036))\n",
    "    exif[\"EXPOSURE\"] =  str(dic.get(40960))\n",
    "    exif[\"ORIENTATION\"] = str( dic.get(274))\n",
    "    exif[\"FLASH\"] =  str(dic.get(7385))\n",
    "    exif[\"SHUTTER\"] =  str(dic.get(37377))\n",
    "    exif[\"APERTURE\"] = str( dic.get(37378))\n",
    "    exif[\"ISOSPEED\"] = str( dic.get(34855))\n",
    "    exif[\"DIGIZOOM\"] =  str(dic.get(41988))\n",
    "    print(\"ORIENTATION\",exif[\"ORIENTATION\"]) \n",
    "    for x in dic:\n",
    "         if x != 37500 and x != 37510:\n",
    "            ex= ex + (str(x) +  \":\" +  str(dic.get(x)) + chr(13) +chr(10) )  \n",
    "    exif[\"EXIF\"] =  str(ex) \n",
    "    return(exif)"
   ]
  },
  {
   "cell_type": "code",
   "execution_count": 35,
   "metadata": {},
   "outputs": [
    {
     "name": "stdout",
     "output_type": "stream",
     "text": [
      "ORIENTATION None\n"
     ]
    },
    {
     "data": {
      "text/plain": [
       "{'WIDTH': '2592',\n",
       " 'HEIGHT': '1944',\n",
       " 'CAMERA': 'Canon',\n",
       " 'MODEL': 'Canon PowerShot A450',\n",
       " 'DTTAKEN': '2007:12:01 21:45:04',\n",
       " 'DTMODIFY': '2007:12:01 21:45:04',\n",
       " 'FSTOP': 'None',\n",
       " 'EXPOSURE': \"b'0100'\",\n",
       " 'ORIENTATION': 'None',\n",
       " 'FLASH': 'None',\n",
       " 'SHUTTER': '(189, 32)',\n",
       " 'APERTURE': '(95, 32)',\n",
       " 'ISOSPEED': '200',\n",
       " 'DIGIZOOM': '(2592, 2592)',\n",
       " 'EXIF': \"36864:b'0220'\\r\\n37121:b'\\\\x01\\\\x02\\\\x03\\\\x00'\\r\\n37122:(5, 1)\\r\\n36867:2007:12:01 21:45:04\\r\\n36868:2007:12:01 21:45:04\\r\\n37377:(189, 32)\\r\\n37378:(95, 32)\\r\\n37380:(0, 3)\\r\\n37381:(95, 32)\\r\\n37383:5\\r\\n37385:89\\r\\n37386:(5400, 1000)\\r\\n40961:1\\r\\n40962:1944\\r\\n41486:(2592000, 194)\\r\\n41487:(1944000, 145)\\r\\n40963:2592\\r\\n41488:2\\r\\n271:Canon\\r\\n272:Canon PowerShot A450\\r\\n531:1\\r\\n41495:2\\r\\n41728:b'\\\\x03'\\r\\n282:(180, 1)\\r\\n283:(180, 1)\\r\\n41985:0\\r\\n34855:200\\r\\n296:2\\r\\n41986:0\\r\\n40960:b'0100'\\r\\n41987:0\\r\\n306:2007:12:01 21:45:04\\r\\n41988:(2592, 2592)\\r\\n41990:0\\r\\n34665:266\\r\\n4097:2592\\r\\n4098:1944\\r\\n33434:(1, 60)\\r\\n33437:(28, 10)\\r\\n\"}"
      ]
     },
     "execution_count": 35,
     "metadata": {},
     "output_type": "execute_result"
    }
   ],
   "source": [
    "getImageExifAttributes(\"Y:/server/EFFIGY_PICS2/Zdjecia/other/IMG_0131.jpg\")"
   ]
  },
  {
   "cell_type": "code",
   "execution_count": 31,
   "metadata": {},
   "outputs": [],
   "source": [
    "def insertMediaAttributes (width, height, camera, model, dttaken, dtmodify,\\\n",
    "                          fstop, exposure, orientation, flash, shutter, aperture,\\\n",
    "                          isospeed,  digizoom,  exif,  media_id ,media_key):\n",
    "    logger.info(\"Saving Attributes\" + media_key)\n",
    "    #print(key,file_name,media_type,folder_id,path, parent_folder_id,parent_folder,attrib_id,ext)\n",
    "    try:\n",
    "        mydb = mysql.connector.connect(user='kogutc', password='Passw0rd',host='127.0.0.1',database='effigy',auth_plugin='mysql_native_password')\n",
    "        mycursor = mydb.cursor()\n",
    "        ssql = \"insert into attrib values (null,%s,%s,%s,%s,%s,%s,%s,%s,%s,%s,%s,%s,%s,%s,%s,%s,%s,%s)\"\n",
    "        #print (ssql)\n",
    "        mycursor.execute(ssql, ( width, height, camera, model, dttaken, dtmodify,\\\n",
    "                          fstop,  exposure, orientation, flash, shutter, aperture,\\\n",
    "                          isospeed, digizoom, exif, media_id, media_key, getDt()))\n",
    "        mydb.commit()\n",
    "        #get newly created ID\n",
    "        newid= getID(\"attrib\",\"atrib_id\", \"media_id\",media_id)\n",
    "    except Exception as err:\n",
    "        logger.error(err)\n",
    "        if err.errno == errorcode.ER_ACCESS_DENIED_ERROR:\n",
    "            custError = \"Something is wrong with your user name or password\"\n",
    "        elif err.errno == errorcode.ER_BAD_DB_ERROR:\n",
    "            custError = \"Database does not exists\"\n",
    "        else:\n",
    "            custError = err\n",
    "        print(custError)\n",
    "        logger.error(custError)\n",
    "        mycursor.close()\n",
    "        mydb.close()\n",
    "    else:\n",
    "        custError = \"Folder Completed OK!\"\n",
    "        logger.info(custError)\n",
    "        mycursor.close()\n",
    "        mydb.close()\n",
    "        logger.info(\"Folder check DB Closed\")\n",
    "        return (newid)"
   ]
  },
  {
   "cell_type": "code",
   "execution_count": 32,
   "metadata": {},
   "outputs": [],
   "source": [
    "def ProcessAttributes():\n",
    "    img_set = getImages()\n",
    "    for media_id,path,fname, media_key, media_type_id in img_set:\n",
    "        pth = fixSlashes(path +\"/\"+fname)\n",
    "        print(pth)\n",
    "        if media_type_id == 'P':\n",
    "            exif=getImageExifAttributes(pth)\n",
    "            idA = insertMediaAttributes(exif[\"WIDTH\"],exif[\"HEIGHT\"],exif[\"CAMERA\"],exif[\"MODEL\"],exif[\"DTTAKEN\"],exif[\"DTMODIFY\"],exif[\"FSTOP\"],exif[\"EXPOSURE\"],exif[\"ORIENTATION\"],exif[\"FLASH\"],exif[\"SHUTTER\"],exif[\"APERTURE\"],exif[\"ISOSPEED\"],exif[\"DIGIZOOM\"],exif[\"EXIF\"], media_id ,media_key)\n",
    "            #atrib_id,  width, height,  camera, model,  dttaken,  dtmodify,  fstop,  exposure,  orientation,  flash,  shutter,  aperture,  isospeed,  digizoom,  exif,  media_id ,media_key,'\n"
   ]
  },
  {
   "cell_type": "code",
   "execution_count": 33,
   "metadata": {},
   "outputs": [
    {
     "name": "stdout",
     "output_type": "stream",
     "text": [
      "Y:/server/EFFIGY_PICS2/Zdjecia/other/IMG_0132.jpg\n",
      "ORIENTATION 1\n",
      "569\n"
     ]
    },
    {
     "ename": "AttributeError",
     "evalue": "'TypeError' object has no attribute 'errno'",
     "output_type": "error",
     "traceback": [
      "\u001b[1;31m---------------------------------------------------------------------------\u001b[0m",
      "\u001b[1;31mTypeError\u001b[0m                                 Traceback (most recent call last)",
      "\u001b[1;32m<ipython-input-31-413a2f09d870>\u001b[0m in \u001b[0;36minsertMediaAttributes\u001b[1;34m(width, height, camera, model, dttaken, dtmodify, fstop, exposure, orientation, flash, shutter, aperture, isospeed, digizoom, exif, media_id, media_key)\u001b[0m\n\u001b[0;32m     15\u001b[0m         \u001b[1;31m#get newly created ID\u001b[0m\u001b[1;33m\u001b[0m\u001b[1;33m\u001b[0m\u001b[1;33m\u001b[0m\u001b[0m\n\u001b[1;32m---> 16\u001b[1;33m         \u001b[0mnewid\u001b[0m\u001b[1;33m=\u001b[0m \u001b[0mgetID\u001b[0m\u001b[1;33m(\u001b[0m\u001b[1;34m\"attrib\"\u001b[0m\u001b[1;33m,\u001b[0m\u001b[1;34m\"atrib_id\"\u001b[0m\u001b[1;33m,\u001b[0m \u001b[1;34m\"media_id\"\u001b[0m\u001b[1;33m,\u001b[0m\u001b[0mmedia_id\u001b[0m\u001b[1;33m)\u001b[0m\u001b[1;33m\u001b[0m\u001b[1;33m\u001b[0m\u001b[0m\n\u001b[0m\u001b[0;32m     17\u001b[0m     \u001b[1;32mexcept\u001b[0m \u001b[0mException\u001b[0m \u001b[1;32mas\u001b[0m \u001b[0merr\u001b[0m\u001b[1;33m:\u001b[0m\u001b[1;33m\u001b[0m\u001b[1;33m\u001b[0m\u001b[0m\n",
      "\u001b[1;32m<ipython-input-10-8cd49acd632d>\u001b[0m in \u001b[0;36mgetID\u001b[1;34m(tbl, thisid, key, val)\u001b[0m\n\u001b[0;32m     27\u001b[0m     \u001b[1;32melse\u001b[0m\u001b[1;33m:\u001b[0m\u001b[1;33m\u001b[0m\u001b[1;33m\u001b[0m\u001b[0m\n\u001b[1;32m---> 28\u001b[1;33m         \u001b[0mcustError\u001b[0m \u001b[1;33m=\u001b[0m \u001b[1;34m\"getID - Completed OK!:\"\u001b[0m \u001b[1;33m+\u001b[0m \u001b[0mval\u001b[0m\u001b[1;33m\u001b[0m\u001b[1;33m\u001b[0m\u001b[0m\n\u001b[0m\u001b[0;32m     29\u001b[0m         \u001b[0mlogger\u001b[0m\u001b[1;33m.\u001b[0m\u001b[0minfo\u001b[0m\u001b[1;33m(\u001b[0m\u001b[0mcustError\u001b[0m\u001b[1;33m)\u001b[0m\u001b[1;33m\u001b[0m\u001b[1;33m\u001b[0m\u001b[0m\n",
      "\u001b[1;31mTypeError\u001b[0m: can only concatenate str (not \"int\") to str",
      "\nDuring handling of the above exception, another exception occurred:\n",
      "\u001b[1;31mAttributeError\u001b[0m                            Traceback (most recent call last)",
      "\u001b[1;32m<ipython-input-33-f334bc9d76a7>\u001b[0m in \u001b[0;36m<module>\u001b[1;34m\u001b[0m\n\u001b[1;32m----> 1\u001b[1;33m \u001b[0mProcessAttributes\u001b[0m\u001b[1;33m(\u001b[0m\u001b[1;33m)\u001b[0m\u001b[1;33m\u001b[0m\u001b[1;33m\u001b[0m\u001b[0m\n\u001b[0m",
      "\u001b[1;32m<ipython-input-32-e1656ecc15c0>\u001b[0m in \u001b[0;36mProcessAttributes\u001b[1;34m()\u001b[0m\n\u001b[0;32m      7\u001b[0m             \u001b[0mexif\u001b[0m\u001b[1;33m=\u001b[0m\u001b[0mgetImageExifAttributes\u001b[0m\u001b[1;33m(\u001b[0m\u001b[0mpth\u001b[0m\u001b[1;33m)\u001b[0m\u001b[1;33m\u001b[0m\u001b[1;33m\u001b[0m\u001b[0m\n\u001b[0;32m      8\u001b[0m             \u001b[0mprint\u001b[0m \u001b[1;33m(\u001b[0m\u001b[0mlen\u001b[0m\u001b[1;33m(\u001b[0m\u001b[0mexif\u001b[0m\u001b[1;33m[\u001b[0m\u001b[1;34m\"EXIF\"\u001b[0m\u001b[1;33m]\u001b[0m\u001b[1;33m)\u001b[0m\u001b[1;33m)\u001b[0m\u001b[1;33m\u001b[0m\u001b[1;33m\u001b[0m\u001b[0m\n\u001b[1;32m----> 9\u001b[1;33m             \u001b[0midA\u001b[0m \u001b[1;33m=\u001b[0m \u001b[0minsertMediaAttributes\u001b[0m\u001b[1;33m(\u001b[0m\u001b[0mexif\u001b[0m\u001b[1;33m[\u001b[0m\u001b[1;34m\"WIDTH\"\u001b[0m\u001b[1;33m]\u001b[0m\u001b[1;33m,\u001b[0m\u001b[0mexif\u001b[0m\u001b[1;33m[\u001b[0m\u001b[1;34m\"HEIGHT\"\u001b[0m\u001b[1;33m]\u001b[0m\u001b[1;33m,\u001b[0m\u001b[0mexif\u001b[0m\u001b[1;33m[\u001b[0m\u001b[1;34m\"CAMERA\"\u001b[0m\u001b[1;33m]\u001b[0m\u001b[1;33m,\u001b[0m\u001b[0mexif\u001b[0m\u001b[1;33m[\u001b[0m\u001b[1;34m\"MODEL\"\u001b[0m\u001b[1;33m]\u001b[0m\u001b[1;33m,\u001b[0m\u001b[0mexif\u001b[0m\u001b[1;33m[\u001b[0m\u001b[1;34m\"DTTAKEN\"\u001b[0m\u001b[1;33m]\u001b[0m\u001b[1;33m,\u001b[0m\u001b[0mexif\u001b[0m\u001b[1;33m[\u001b[0m\u001b[1;34m\"DTMODIFY\"\u001b[0m\u001b[1;33m]\u001b[0m\u001b[1;33m,\u001b[0m\u001b[0mexif\u001b[0m\u001b[1;33m[\u001b[0m\u001b[1;34m\"FSTOP\"\u001b[0m\u001b[1;33m]\u001b[0m\u001b[1;33m,\u001b[0m\u001b[0mexif\u001b[0m\u001b[1;33m[\u001b[0m\u001b[1;34m\"EXPOSURE\"\u001b[0m\u001b[1;33m]\u001b[0m\u001b[1;33m,\u001b[0m\u001b[0mexif\u001b[0m\u001b[1;33m[\u001b[0m\u001b[1;34m\"ORIENTATION\"\u001b[0m\u001b[1;33m]\u001b[0m\u001b[1;33m,\u001b[0m\u001b[0mexif\u001b[0m\u001b[1;33m[\u001b[0m\u001b[1;34m\"FLASH\"\u001b[0m\u001b[1;33m]\u001b[0m\u001b[1;33m,\u001b[0m\u001b[0mexif\u001b[0m\u001b[1;33m[\u001b[0m\u001b[1;34m\"SHUTTER\"\u001b[0m\u001b[1;33m]\u001b[0m\u001b[1;33m,\u001b[0m\u001b[0mexif\u001b[0m\u001b[1;33m[\u001b[0m\u001b[1;34m\"APERTURE\"\u001b[0m\u001b[1;33m]\u001b[0m\u001b[1;33m,\u001b[0m\u001b[0mexif\u001b[0m\u001b[1;33m[\u001b[0m\u001b[1;34m\"ISOSPEED\"\u001b[0m\u001b[1;33m]\u001b[0m\u001b[1;33m,\u001b[0m\u001b[0mexif\u001b[0m\u001b[1;33m[\u001b[0m\u001b[1;34m\"DIGIZOOM\"\u001b[0m\u001b[1;33m]\u001b[0m\u001b[1;33m,\u001b[0m\u001b[0mexif\u001b[0m\u001b[1;33m[\u001b[0m\u001b[1;34m\"EXIF\"\u001b[0m\u001b[1;33m]\u001b[0m\u001b[1;33m,\u001b[0m \u001b[0mmedia_id\u001b[0m \u001b[1;33m,\u001b[0m\u001b[0mmedia_key\u001b[0m\u001b[1;33m)\u001b[0m\u001b[1;33m\u001b[0m\u001b[1;33m\u001b[0m\u001b[0m\n\u001b[0m\u001b[0;32m     10\u001b[0m             \u001b[1;31m#atrib_id,  width, height,  camera, model,  dttaken,  dtmodify,  fstop,  exposure,  orientation,  flash,  shutter,  aperture,  isospeed,  digizoom,  exif,  media_id ,media_key,'\u001b[0m\u001b[1;33m\u001b[0m\u001b[1;33m\u001b[0m\u001b[1;33m\u001b[0m\u001b[0m\n",
      "\u001b[1;32m<ipython-input-31-413a2f09d870>\u001b[0m in \u001b[0;36minsertMediaAttributes\u001b[1;34m(width, height, camera, model, dttaken, dtmodify, fstop, exposure, orientation, flash, shutter, aperture, isospeed, digizoom, exif, media_id, media_key)\u001b[0m\n\u001b[0;32m     17\u001b[0m     \u001b[1;32mexcept\u001b[0m \u001b[0mException\u001b[0m \u001b[1;32mas\u001b[0m \u001b[0merr\u001b[0m\u001b[1;33m:\u001b[0m\u001b[1;33m\u001b[0m\u001b[1;33m\u001b[0m\u001b[0m\n\u001b[0;32m     18\u001b[0m         \u001b[0mlogger\u001b[0m\u001b[1;33m.\u001b[0m\u001b[0merror\u001b[0m\u001b[1;33m(\u001b[0m\u001b[0merr\u001b[0m\u001b[1;33m)\u001b[0m\u001b[1;33m\u001b[0m\u001b[1;33m\u001b[0m\u001b[0m\n\u001b[1;32m---> 19\u001b[1;33m         \u001b[1;32mif\u001b[0m \u001b[0merr\u001b[0m\u001b[1;33m.\u001b[0m\u001b[0merrno\u001b[0m \u001b[1;33m==\u001b[0m \u001b[0merrorcode\u001b[0m\u001b[1;33m.\u001b[0m\u001b[0mER_ACCESS_DENIED_ERROR\u001b[0m\u001b[1;33m:\u001b[0m\u001b[1;33m\u001b[0m\u001b[1;33m\u001b[0m\u001b[0m\n\u001b[0m\u001b[0;32m     20\u001b[0m             \u001b[0mcustError\u001b[0m \u001b[1;33m=\u001b[0m \u001b[1;34m\"Something is wrong with your user name or password\"\u001b[0m\u001b[1;33m\u001b[0m\u001b[1;33m\u001b[0m\u001b[0m\n\u001b[0;32m     21\u001b[0m         \u001b[1;32melif\u001b[0m \u001b[0merr\u001b[0m\u001b[1;33m.\u001b[0m\u001b[0merrno\u001b[0m \u001b[1;33m==\u001b[0m \u001b[0merrorcode\u001b[0m\u001b[1;33m.\u001b[0m\u001b[0mER_BAD_DB_ERROR\u001b[0m\u001b[1;33m:\u001b[0m\u001b[1;33m\u001b[0m\u001b[1;33m\u001b[0m\u001b[0m\n",
      "\u001b[1;31mAttributeError\u001b[0m: 'TypeError' object has no attribute 'errno'"
     ]
    }
   ],
   "source": [
    "ProcessAttributes()"
   ]
  },
  {
   "cell_type": "code",
   "execution_count": null,
   "metadata": {},
   "outputs": [],
   "source": [
    "\n",
    "img_set = getImages()\n",
    "for media_id,path,fname, media_key, media_type_id in img_set:\n",
    "    pth = fixSlashes(path +\"/\"+fname)\n",
    "    print(pth)\n",
    "    if media_type_id == 'P':\n",
    "        exif=getImageExifAttributes(pth)\n",
    "        print (len(exif[\"EXIF\"]))\n",
    "\n",
    "    "
   ]
  },
  {
   "cell_type": "code",
   "execution_count": null,
   "metadata": {},
   "outputs": [],
   "source": [
    "exif = getImageExifAttributes(\"Y:/server/EFFIGY_PICS2\\\\Zdjecia/other/IMG_0025.jpg\")\n",
    "exif[\"WIDTH\"]\n",
    "#print(exif)\n",
    "\n",
    "#for e in exif:\n",
    "#    print(e)\n",
    "print(str(exif[\"APERTURE\"]))\n",
    "print(exif[\"APERTURE\"])\n",
    "print(convertTuple(exif[\"APERTURE\"]))\n",
    "#idA = inserMediaAttributes(exif[\"WIDTH\"],exif[\"HEIGHT\"],exif[\"CAMERA\"],exif[\"MODEL\"],exif[\"DTTAKEN\"],exif[\"DTMODIFY\"],exif[\"FSTOP\"],exif[\"EXPOSURE\"],exif[\"ORIENTATION\"],exif[\"FLASH\"],exif[\"SHUTTER\"],exif[\"APERTURE\"],exif[\"ISOSPEED\"],exif[\"DIGIZOOM\"],\"\",\"1\" ,\"1\")\n",
    "             "
   ]
  },
  {
   "cell_type": "code",
   "execution_count": null,
   "metadata": {},
   "outputs": [],
   "source": [
    "path = \"C:/GIT_REPOSITORY/REPO/effigy/imageLib/test.jpg\"\n",
    "from PIL import Image\n",
    "# Read image \n",
    "img = Image.open(path) \n",
    "  \n",
    "# Output Images \n",
    "img.show() \n",
    "\n",
    "# prints format of image \n",
    "print(img.format) \n",
    "\n",
    "# prints mode of image \n",
    "print(img.mode) "
   ]
  },
  {
   "cell_type": "code",
   "execution_count": null,
   "metadata": {
    "scrolled": true
   },
   "outputs": [],
   "source": [
    "\n",
    "#path = \"C:/GIT_REPOSITORY/REPO/effigy/imageLib/geotag.jpg\"\n",
    "path= \"Y:/server/EFFIGY_PICS2/Zdjecia/other/IMG_0131.jpg\"\n",
    "# Python program to read \n",
    "# image using PIL module \n",
    "  \n",
    "# importing PIL \n",
    "from PIL import Image \n",
    "  \n",
    "# Read image \n",
    "img = Image.open(path) \n",
    "  \n",
    "# Output Images \n",
    "img.show() \n",
    "  \n",
    "# prints format of image \n",
    "print(img.format) \n",
    "  \n",
    "# prints mode of image \n",
    "print(img.mode) \n",
    "dic = img._getexif()\n",
    "width = dic.get(40963)\n",
    "height = dic.get(40962)\n",
    "camera = dic.get(271)\n",
    "model = dic.get(272)\n",
    "dttaken = dic.get(36868)\n",
    "dtmod= dic.get(36867)\n",
    "fstop= dic.get(42036)\n",
    "exposure = dic.get(40960) \n",
    "orientation=dic.get(274)\n",
    "flash = dic.get(7385)\n",
    "shutter = dic.get(37377)\n",
    "apperture=dic.get(37378) \n",
    "isospeed=dic.get(34855) \n",
    "digzoom=dic.get(41988)\n",
    "exif=\"\"\n"
   ]
  }
 ],
 "metadata": {
  "kernelspec": {
   "display_name": "Python 3",
   "language": "python",
   "name": "python3"
  },
  "language_info": {
   "codemirror_mode": {
    "name": "ipython",
    "version": 3
   },
   "file_extension": ".py",
   "mimetype": "text/x-python",
   "name": "python",
   "nbconvert_exporter": "python",
   "pygments_lexer": "ipython3",
   "version": "3.7.6"
  }
 },
 "nbformat": 4,
 "nbformat_minor": 4
}
