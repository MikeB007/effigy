{
 "cells": [
  {
   "cell_type": "code",
   "execution_count": 551,
   "metadata": {},
   "outputs": [],
   "source": [
    "\n",
    "import mysql.connector\n",
    "from mysql.connector import errorcode\n",
    "import logging\n",
    "\n",
    "\n",
    "logging.basicConfig(level=logging.DEBUG, filename='effigySync.log', format='%(asctime)s %(name)s %(levelname)s:%(message)s')\n",
    "logger = logging.getLogger(__name__)\n"
   ]
  },
  {
   "cell_type": "code",
   "execution_count": 552,
   "metadata": {},
   "outputs": [],
   "source": [
    "import os\n",
    "#SOURCEPATH='Y:/server/EFFIGY_PICS'\n",
    "SOURCEPATH='Y:/server/EFFIGY_PICS2'\n",
    "#SOURCEPATH = 'C:/Users/user/Pictures'\n"
   ]
  },
  {
   "cell_type": "code",
   "execution_count": 553,
   "metadata": {},
   "outputs": [],
   "source": [
    "def fixSlashes(val):\n",
    "    val = val.replace('\\\\', '/')\n",
    "    return val    "
   ]
  },
  {
   "cell_type": "code",
   "execution_count": 554,
   "metadata": {},
   "outputs": [
    {
     "data": {
      "text/plain": [
       "{'.JPG', '.jpg'}"
      ]
     },
     "execution_count": 554,
     "metadata": {},
     "output_type": "execute_result"
    }
   ],
   "source": [
    "\n",
    "a=set()\n",
    "#folders = []\n",
    "# r=root, d=directories, f = files\n",
    "for r, d, f in os.walk(SOURCEPATH):       \n",
    "    for f1 in f:\n",
    "        ext = os.path.splitext(f1)[1]\n",
    "        a.add(ext) \n",
    "a"
   ]
  },
  {
   "cell_type": "code",
   "execution_count": 555,
   "metadata": {},
   "outputs": [],
   "source": [
    "def getID(tbl,thisid, key,val):\n",
    "    try:\n",
    "        mydb = mysql.connector.connect(user='kogutc', password='Ilms2009',host='127.0.0.1',database='effigy',auth_plugin='mysql_native_password')\n",
    "        mycursor = mydb.cursor()\n",
    "        ssql = \"select \" + thisid + \" from \" +  tbl  + \" where \" + key + \"= %s\"\n",
    "        #print (ssql)\n",
    "        mycursor.execute(ssql, (fixSlashes(val),))\n",
    "        rows = mycursor.fetchall()\n",
    "        columns = [desc[0] for desc in mycursor.description]\n",
    "        newid = []\n",
    "        for row in rows:\n",
    "            # we dont need json or column names only one row returned\n",
    "            #row = dict(zip(columns, row))\n",
    "            newid.append(row)\n",
    "    except Exception as err:\n",
    "        logger.error(err)\n",
    "        if err.errno == errorcode.ER_ACCESS_DENIED_ERROR:\n",
    "            custError = \"Something is wrong with your user name or password\"+val\n",
    "        elif err.errno == errorcode.ER_BAD_DB_ERROR:\n",
    "            custError = \"Database does not exists\"\n",
    "        else:\n",
    "            custError = err\n",
    "        print(custError)\n",
    "        logger.error(custError)\n",
    "        mycursor.close()\n",
    "        mydb.close()\n",
    "    else:\n",
    "        custError = \"getID - Completed OK!:\" + val\n",
    "        logger.info(custError)\n",
    "        mycursor.close()\n",
    "        mydb.close()\n",
    "        logger.info(\"getID DB Closed\"+ val)\n",
    "        # obejct is a tuple we retrieve only id\n",
    "        print(newid)\n",
    "        if len(newid) >= 1:\n",
    "            id = newid[0][0]\n",
    "        else:\n",
    "            id = -1\n",
    "        return (id)"
   ]
  },
  {
   "cell_type": "code",
   "execution_count": 556,
   "metadata": {},
   "outputs": [],
   "source": [
    "def getImageID(tbl,thisid, key,val,key2,val2):\n",
    "    try:\n",
    "        mydb = mysql.connector.connect(user='kogutc', password='Ilms2009',host='127.0.0.1',database='effigy',auth_plugin='mysql_native_password')\n",
    "        mycursor = mydb.cursor()\n",
    "        ssql = \"select \" + thisid + \" from \" +  tbl  + \" where \" + key + \"= %s and  \" + key2 + \"= %s\"\n",
    "        #print (ssql)\n",
    "        mycursor.execute(ssql, (fixSlashes(val),val2,))\n",
    "        rows = mycursor.fetchall()\n",
    "        columns = [desc[0] for desc in mycursor.description]\n",
    "        newid = []\n",
    "        for row in rows:\n",
    "            # we dont need json or column names only one row returned\n",
    "            #row = dict(zip(columns, row))\n",
    "            newid.append(row)\n",
    "    except Exception as err:\n",
    "        logger.error(err)\n",
    "        if err.errno == errorcode.ER_ACCESS_DENIED_ERROR:\n",
    "            custError = \"Something is wrong with your user name or password\"+val\n",
    "        elif err.errno == errorcode.ER_BAD_DB_ERROR:\n",
    "            custError = \"Database does not exists\"\n",
    "        else:\n",
    "            custError = err\n",
    "        print(custError)\n",
    "        logger.error(custError)\n",
    "        mycursor.close()\n",
    "        mydb.close()\n",
    "    else:\n",
    "        custError = \"getID - Completed OK!:\" + val\n",
    "        logger.info(custError)\n",
    "        mycursor.close()\n",
    "        mydb.close()\n",
    "        logger.info(\"getID DB Closed\"+ val)\n",
    "        # obejct is a tuple we retrieve only id\n",
    "        print(newid)\n",
    "        if len(newid) >= 1:\n",
    "            id = newid[0][0]\n",
    "        else:\n",
    "            id = -1\n",
    "        return (id)"
   ]
  },
  {
   "cell_type": "code",
   "execution_count": 557,
   "metadata": {},
   "outputs": [
    {
     "name": "stdout",
     "output_type": "stream",
     "text": [
      "[]\n"
     ]
    }
   ],
   "source": [
    "newid= getImageID(\"media\",\"media_id\", \"path\",\"c:\\\\\",\"name\",\"test.jpg\")"
   ]
  },
  {
   "cell_type": "code",
   "execution_count": 577,
   "metadata": {},
   "outputs": [],
   "source": [
    "def getValidExtensions():\n",
    "    try:\n",
    "        mydb = mysql.connector.connect(user='kogutc', password='Ilms2009',host='127.0.0.1',database='effigy',auth_plugin='mysql_native_password')\n",
    "        mycursor = mydb.cursor()\n",
    "        ssql = \"select extension from supported_ext order by 1\"\n",
    "        mycursor.execute(ssql)\n",
    "        rows = mycursor.fetchall()\n",
    "        columns = [desc[0] for desc in mycursor.description]\n",
    "        rec = []\n",
    "        for row in rows:\n",
    "            # we dont need json or column names only one row returned\n",
    "            #row = dict(zip(columns, row))\n",
    "            rec.append(row)\n",
    "    except Exception as err:\n",
    "        logger.error(err)\n",
    "        if err.errno == errorcode.ER_ACCESS_DENIED_ERROR:\n",
    "            custError = \"Something is wrong with your user name or password\"+val\n",
    "        elif err.errno == errorcode.ER_BAD_DB_ERROR:\n",
    "            custError = \"Database does not exists\"\n",
    "        else:\n",
    "            custError = err\n",
    "        print(custError)\n",
    "        logger.error(custError)\n",
    "        mycursor.close()\n",
    "        mydb.close()\n",
    "    else:\n",
    "        custError = \"getID - Completed OK!:\"\n",
    "        logger.info(custError)\n",
    "        mycursor.close()\n",
    "        mydb.close()\n",
    "        logger.info(\"getID DB Closed\")\n",
    "        # converting it to a SET, fast lookup\n",
    "        ext_set=set()  \n",
    "        for i in rec:\n",
    "            ext_set.add (i[0])\n",
    "        return (ext_set)"
   ]
  },
  {
   "cell_type": "code",
   "execution_count": 578,
   "metadata": {},
   "outputs": [
    {
     "data": {
      "text/plain": [
       "{'.avi', '.jpeg', '.jpg', '.mov', '.mp3', '.mp4', '.mpg', '.png', '.wmv'}"
      ]
     },
     "execution_count": 578,
     "metadata": {},
     "output_type": "execute_result"
    }
   ],
   "source": [
    "#get valid extensions\n",
    "EXT = getValidExtensions()\n",
    "#  check\n",
    "'avi' in EXT\n",
    "EXT"
   ]
  },
  {
   "cell_type": "code",
   "execution_count": 579,
   "metadata": {},
   "outputs": [],
   "source": [
    "def insertRoot (root):\n",
    "    logger.info(\"Starting Request\")\n",
    "    try:\n",
    "        mydb = mysql.connector.connect(user='kogutc', password='Ilms2009',host='127.0.0.1',database='effigy',auth_plugin='mysql_native_password')\n",
    "        mycursor = mydb.cursor()\n",
    "        ssql = \"insert into loc_root values (null, %s)\"\n",
    "        root = fixSlashes(root)\n",
    "        #print (root)\n",
    "        mycursor.execute(ssql, (root,))\n",
    "        mydb.commit()\n",
    "        #get newly created ID\n",
    "        newid= getID(\"loc_root\",\"root_id\", \"root\",root)\n",
    "    except Exception as err:\n",
    "        logger.error(err)\n",
    "        if err.errno == errorcode.ER_ACCESS_DENIED_ERROR:\n",
    "            custError = \"Something is wrong with your user name or password\"\n",
    "        elif err.errno == errorcode.ER_BAD_DB_ERROR:\n",
    "            custError = \"Database does not exists\"\n",
    "        else:\n",
    "            custError = err\n",
    "        print(custError)\n",
    "        logger.error(custError)\n",
    "        mycursor.close()\n",
    "        mydb.close()\n",
    "    else:\n",
    "        custError = \"Root-Completed OK!\"\n",
    "        logger.info(custError)\n",
    "        mycursor.close()\n",
    "        mydb.close()\n",
    "        logger.info(\"Root - DB Closed\")\n",
    "        return (newid)"
   ]
  },
  {
   "cell_type": "code",
   "execution_count": 580,
   "metadata": {},
   "outputs": [
    {
     "name": "stdout",
     "output_type": "stream",
     "text": [
      "[]\n"
     ]
    },
    {
     "data": {
      "text/plain": [
       "-1"
      ]
     },
     "execution_count": 580,
     "metadata": {},
     "output_type": "execute_result"
    }
   ],
   "source": [
    "getID(\"loc_folder\",\"folder_id\", \"folder_path\",\"C:ggg/Uffsssehhffrsggs/user/Pictures/2017-11111111111\")"
   ]
  },
  {
   "cell_type": "code",
   "execution_count": 581,
   "metadata": {},
   "outputs": [],
   "source": [
    "def insertFolder (root_id,root,folder,folderPath):\n",
    "    logger.info(\"Starting Request\")\n",
    "    try:\n",
    "        mydb = mysql.connector.connect(user='kogutc', password='Ilms2009',host='127.0.0.1',database='effigy',auth_plugin='mysql_native_password')\n",
    "        mycursor = mydb.cursor()\n",
    "        ssql = \"insert into loc_folder values (null,%s, %s,%s,%s)\"\n",
    "        root = fixSlashes(root)\n",
    "        folder = fixSlashes(folder)\n",
    "        folderPath = fixSlashes(folderPath)\n",
    "        #print (ssql)\n",
    "        mycursor.execute(ssql, (root_id,root,folder,folderPath,))\n",
    "        mydb.commit()\n",
    "        #get newly created ID\n",
    "        newid= getID(\"loc_folder\",\"folder_id\", \"folder_path\",folderPath)\n",
    "    except Exception as err:\n",
    "        logger.error(err)\n",
    "        if err.errno == errorcode.ER_ACCESS_DENIED_ERROR:\n",
    "            custError = \"Something is wrong with your user name or password\"\n",
    "        elif err.errno == errorcode.ER_BAD_DB_ERROR:\n",
    "            custError = \"Database does not exists\"\n",
    "        else:\n",
    "            custError = err\n",
    "        print(custError)\n",
    "        logger.error(custError)\n",
    "        mycursor.close()\n",
    "        mydb.close()\n",
    "    else:\n",
    "        custError = \"Folder Completed OK!\"\n",
    "        logger.info(custError)\n",
    "        mycursor.close()\n",
    "        mydb.close()\n",
    "        logger.info(\"Folder check DB Closed\")\n",
    "        return (newid)"
   ]
  },
  {
   "cell_type": "code",
   "execution_count": 582,
   "metadata": {},
   "outputs": [],
   "source": [
    "def skipRoot(root):\n",
    "    skip=False\n",
    "    toSkip=\"Y:\\server\\EFFIGY_PICS\\Zdjecia\\\\tomcat-ZDJECIA\"\n",
    "    #print(\"toskip\",fixSlashes(toSkip).upper())\n",
    "    #print(\"root  \",fixSlashes(root).upper())\n",
    "    len(root)\n",
    "    len(toSkip)\n",
    "    if len(root) >= len(toSkip):\n",
    "        if (fixSlashes(toSkip).upper() == fixSlashes(root[:len(toSkip)]).upper())  :\n",
    "            skip=True\n",
    "    #else:\n",
    "    #    print(\"not matching length\")\n",
    "    return(skip)"
   ]
  },
  {
   "cell_type": "code",
   "execution_count": 583,
   "metadata": {},
   "outputs": [
    {
     "data": {
      "text/plain": [
       "True"
      ]
     },
     "execution_count": 583,
     "metadata": {},
     "output_type": "execute_result"
    }
   ],
   "source": [
    "skipRoot(\"Y:\\server\\EFFIGY_PICS\\Zdjecia\\\\tomcat-ZdJECIA\")"
   ]
  },
  {
   "cell_type": "code",
   "execution_count": 584,
   "metadata": {},
   "outputs": [],
   "source": [
    "#newid = insertFolder(1, \"C:/Users/user/Pictures\",\"2017-1111\", \"C:ggg/Uffsssehhffrsggs/user/Pictures/2017-1221111111111\")\n",
    "#newid"
   ]
  },
  {
   "cell_type": "code",
   "execution_count": 585,
   "metadata": {},
   "outputs": [],
   "source": [
    "def inserImage (file_name,media_type,folder_id,path, parent_folder_id,parent_folder,attrib_id,ext):\n",
    "    logger.info(\"Saving image\")\n",
    "    print(file_name,media_type,folder_id,path, parent_folder_id,parent_folder,attrib_id,ext)\n",
    "    try:\n",
    "        mydb = mysql.connector.connect(user='kogutc', password='Ilms2009',host='127.0.0.1',database='effigy',auth_plugin='mysql_native_password')\n",
    "        mycursor = mydb.cursor()\n",
    "        ssql = \"insert into media values (null,%s,%s,%s,%s,%s,%s,%s,%s,%s,%s,%s,%s)\"\n",
    "        path = fixSlashes(path)\n",
    "        parent_folder = fixSlashes(parent_folder)\n",
    "        #print (ssql)\n",
    "        mycursor.execute(ssql, ( file_name,media_type,folder_id,path,parent_folder_id,parent_folder,\"sDesc\",file_name,0,ext,'NULL','NULL'))\n",
    "        mydb.commit()\n",
    "        #get newly created ID\n",
    "        newid= getImageID(\"media\",\"media_id\", \"path\",path,\"name\",file_name)\n",
    "    except Exception as err:\n",
    "        logger.error(err)\n",
    "        if err.errno == errorcode.ER_ACCESS_DENIED_ERROR:\n",
    "            custError = \"Something is wrong with your user name or password\"\n",
    "        elif err.errno == errorcode.ER_BAD_DB_ERROR:\n",
    "            custError = \"Database does not exists\"\n",
    "        else:\n",
    "            custError = err\n",
    "        print(custError)\n",
    "        logger.error(custError)\n",
    "        mycursor.close()\n",
    "        mydb.close()\n",
    "    else:\n",
    "        custError = \"Folder Completed OK!\"\n",
    "        logger.info(custError)\n",
    "        mycursor.close()\n",
    "        mydb.close()\n",
    "        logger.info(\"Folder check DB Closed\")\n",
    "        return (newid)"
   ]
  },
  {
   "cell_type": "code",
   "execution_count": 588,
   "metadata": {},
   "outputs": [],
   "source": [
    "def importFolders():\n",
    "    #get Valid extensions first\n",
    "    c=0\n",
    "    EXT = getValidExtensions()\n",
    "    #  check\n",
    "    '' in EXT\n",
    "    print(EXT)\n",
    "    for r, d, f in os.walk(SOURCEPATH):\n",
    "        #print(\"dir\",d,r)\n",
    "        if len(d) >0:\n",
    "            if  skipRoot(r):\n",
    "                print(\"Skipped Root:\",r)\n",
    "            else:\n",
    "                idR = insertRoot(r)\n",
    "                #print(\"Processed Root:\",idR,r)\n",
    "                for dir in d:\n",
    "                    print (\"will INSERT dir:\",idR,dir)\n",
    "                    #print(\"about to insert\", idR,r,dir,r + '/' + dir)\n",
    "                    idF = insertFolder(idR,r,dir,r + \"/\"+ dir)\n",
    "                    #print(\"Created folder\",idF)\n",
    "                    pth = r +\"/\"+dir\n",
    "                    print(\"path\", pth)\n",
    "                    files = [f for f in os.listdir(pth) if os.path.isfile(os.path.join(pth,f))]\n",
    "                    for f in files:\n",
    "                        file_ext= os.path.splitext(f)[1].lower()\n",
    "                        print(file_ext,ext)\n",
    "                        if (file_ext in EXT):\n",
    "                            print(\"Processing:\" + f)\n",
    "                            #inserImage(file_name,media_type,folder_id,path, parent_folder_id,parent_folder,attrib_id,ext):                       \n",
    "                            idM = inserImage(f,'P',idF, r +\"/\"+dir, idR,r,\"\",file_ext)\n",
    "                            print(idM)\n",
    "                           \n",
    "    return(c)                    \n",
    "                    \n",
    "    \n",
    "                    \n",
    "                    \n",
    "                \n",
    "        \n",
    "    "
   ]
  },
  {
   "cell_type": "code",
   "execution_count": 589,
   "metadata": {},
   "outputs": [
    {
     "name": "stdout",
     "output_type": "stream",
     "text": [
      "{'.mp4', '.jpg', '.mov', '.mpg', '.png', '.jpeg', '.avi', '.mp3', '.wmv'}\n",
      "[(1,)]\n",
      "will INSERT dir: 1 Zdjecia\n",
      "[(1,)]\n",
      "path Y:/server/EFFIGY_PICS2/Zdjecia\n",
      ".jpg .jpg\n",
      "Processing:20041008 001.JPG\n",
      "20041008 001.JPG P 1 Y:/server/EFFIGY_PICS2/Zdjecia 1 Y:/server/EFFIGY_PICS2  .jpg\n",
      "[(1,)]\n",
      "1\n",
      ".jpg .jpg\n",
      "Processing:20041008 002.jpg\n",
      "20041008 002.jpg P 1 Y:/server/EFFIGY_PICS2/Zdjecia 1 Y:/server/EFFIGY_PICS2  .jpg\n",
      "[(2,)]\n",
      "2\n",
      "[(2,)]\n",
      "will INSERT dir: 2 other\n",
      "[(2,)]\n",
      "path Y:/server/EFFIGY_PICS2\\Zdjecia/other\n",
      ".jpg .jpg\n",
      "Processing:IMG_0025.jpg\n",
      "IMG_0025.jpg P 2 Y:/server/EFFIGY_PICS2\\Zdjecia/other 2 Y:/server/EFFIGY_PICS2\\Zdjecia  .jpg\n",
      "[(3,)]\n",
      "3\n",
      ".jpg .jpg\n",
      "Processing:IMG_0028.jpg\n",
      "IMG_0028.jpg P 2 Y:/server/EFFIGY_PICS2\\Zdjecia/other 2 Y:/server/EFFIGY_PICS2\\Zdjecia  .jpg\n",
      "[(4,)]\n",
      "4\n",
      ".jpg .jpg\n",
      "Processing:IMG_0131.jpg\n",
      "IMG_0131.jpg P 2 Y:/server/EFFIGY_PICS2\\Zdjecia/other 2 Y:/server/EFFIGY_PICS2\\Zdjecia  .jpg\n",
      "[(5,)]\n",
      "5\n",
      ".jpg .jpg\n",
      "Processing:IMG_0132.jpg\n",
      "IMG_0132.jpg P 2 Y:/server/EFFIGY_PICS2\\Zdjecia/other 2 Y:/server/EFFIGY_PICS2\\Zdjecia  .jpg\n",
      "[(6,)]\n",
      "6\n",
      "will INSERT dir: 2 tomcat-ZDJECIA\n",
      "[(3,)]\n",
      "path Y:/server/EFFIGY_PICS2\\Zdjecia/tomcat-ZDJECIA\n",
      "[(3,)]\n",
      "will INSERT dir: 3 junk\n",
      "[(4,)]\n",
      "path Y:/server/EFFIGY_PICS2\\Zdjecia\\tomcat-ZDJECIA/junk\n",
      "total: 0\n"
     ]
    }
   ],
   "source": [
    "c= importFolders()\n",
    "print (\"total:\",c)"
   ]
  },
  {
   "cell_type": "code",
   "execution_count": 516,
   "metadata": {},
   "outputs": [
    {
     "name": "stdout",
     "output_type": "stream",
     "text": [
      "[]\n"
     ]
    },
    {
     "data": {
      "text/plain": [
       "-1"
      ]
     },
     "execution_count": 516,
     "metadata": {},
     "output_type": "execute_result"
    }
   ],
   "source": [
    "id = getID(\"loc_root\",\"root_id\",\"root\",\"C:/Users/user/Pictures/2018-06\")\n",
    "id"
   ]
  },
  {
   "cell_type": "code",
   "execution_count": 517,
   "metadata": {},
   "outputs": [
    {
     "data": {
      "text/plain": [
       "0"
      ]
     },
     "execution_count": 517,
     "metadata": {},
     "output_type": "execute_result"
    }
   ],
   "source": [
    "c\n"
   ]
  },
  {
   "cell_type": "code",
   "execution_count": 518,
   "metadata": {},
   "outputs": [
    {
     "name": "stdout",
     "output_type": "stream",
     "text": [
      "[]\n"
     ]
    },
    {
     "data": {
      "text/plain": [
       "-1"
      ]
     },
     "execution_count": 518,
     "metadata": {},
     "output_type": "execute_result"
    }
   ],
   "source": [
    "id = getID(\"loc_folder\",\"folder_id\",\"folder_path\",\"C:/Users/user/Pictures/2018-06\")\n",
    "id\n"
   ]
  },
  {
   "cell_type": "code",
   "execution_count": null,
   "metadata": {
    "scrolled": true
   },
   "outputs": [],
   "source": []
  },
  {
   "cell_type": "code",
   "execution_count": null,
   "metadata": {},
   "outputs": [],
   "source": [
    "getSampleData()"
   ]
  },
  {
   "cell_type": "code",
   "execution_count": null,
   "metadata": {},
   "outputs": [],
   "source": [
    "path = \"C:/GIT_REPOSITORY/REPO/effigy/imageLib/test.jpg\"\n",
    "from PIL import Image\n",
    "# Read image \n",
    "img = Image.open(path) \n",
    "  \n",
    "# Output Images \n",
    "img.show() \n",
    "\n",
    "# prints format of image \n",
    "print(img.format) \n",
    "\n",
    "# prints mode of image \n",
    "print(img.mode) "
   ]
  },
  {
   "cell_type": "code",
   "execution_count": null,
   "metadata": {},
   "outputs": [],
   "source": [
    "for r, d, f in os.walk(path):\n",
    "    print (\"directory is: \", d)\n",
    "    "
   ]
  },
  {
   "cell_type": "code",
   "execution_count": null,
   "metadata": {},
   "outputs": [],
   "source": [
    "for f in files:\n",
    "    print(f)\n",
    "    "
   ]
  },
  {
   "cell_type": "code",
   "execution_count": null,
   "metadata": {},
   "outputs": [],
   "source": [
    "for r, d, f in os.walk(path):\n",
    "    print(f)"
   ]
  },
  {
   "cell_type": "code",
   "execution_count": null,
   "metadata": {},
   "outputs": [],
   "source": [
    "from PIL import Image\n",
    "import glob, os\n",
    "size = 128, 128\n",
    "for infile in glob.glob(path):\n",
    "    file, ext = os.path.splitext(infile)\n",
    "    im = Image.open(infile)\n",
    "    im.thumbnail(size)\n",
    "    im.save(file + \".thumbnail1.png\", \"PNG\")"
   ]
  },
  {
   "cell_type": "code",
   "execution_count": null,
   "metadata": {
    "scrolled": true
   },
   "outputs": [],
   "source": [
    "\n",
    "path = \"C:/GIT_REPOSITORY/REPO/effigy/imageLib/geotag.jpg\"\n",
    "\n",
    "# Python program to read \n",
    "# image using PIL module \n",
    "  \n",
    "# importing PIL \n",
    "from PIL import Image \n",
    "  \n",
    "# Read image \n",
    "img = Image.open(path) \n",
    "  \n",
    "# Output Images \n",
    "#img.show() \n",
    "  \n",
    "# prints format of image \n",
    "print(img.format) \n",
    "  \n",
    "    \n",
    "    \n",
    "\n",
    "# prints mode of image \n",
    "print(img.mode) \n",
    "dic = img._getexif()\n",
    "width = dic.get(40963)\n",
    "height = dic.get(40962)\n",
    "camera = dic.get(271)\n",
    "model = dic.get(272)\n",
    "dttaken = dic.get(36868)\n",
    "dtmod= dic.get(36867)\n",
    "fstop= dic.get(42036)\n",
    "exposure = dic.get(40960) \n",
    "orientation=dic.get(274)\n",
    "flash = dic.get(7385)\n",
    "shutter = dic.get(37377)\n",
    "apperture=dic.get(37378) \n",
    "isospeed=dic.get(34855) \n",
    "digzoom=dic.get(41988)\n",
    "exif=\"\"\n"
   ]
  },
  {
   "cell_type": "code",
   "execution_count": null,
   "metadata": {},
   "outputs": [],
   "source": [
    "dttaken"
   ]
  },
  {
   "cell_type": "code",
   "execution_count": null,
   "metadata": {},
   "outputs": [],
   "source": [
    "exif=\"\"\n",
    "for x in dic:\n",
    "     if x != 37500:\n",
    "        exif= exif + (str(x) +  \":\" +  str(dic.get(x)) + chr(13) +chr(10) )  \n",
    "exif"
   ]
  },
  {
   "cell_type": "code",
   "execution_count": null,
   "metadata": {},
   "outputs": [],
   "source": [
    "for x in dic:\n",
    "    if x != 37500:\n",
    "     print(x,\":\", dic.get(x))"
   ]
  },
  {
   "cell_type": "code",
   "execution_count": null,
   "metadata": {},
   "outputs": [],
   "source": [
    "import os\n",
    "path = 'C:/Users/user/Pictures'\n",
    "roots = []\n",
    "# r=root, d=directories, f = files\n",
    "for r,d,f in os.walk(path):\n",
    "    print (r,d)\n",
    "    for f in d:\n",
    "       print(f)\n",
    "   "
   ]
  },
  {
   "cell_type": "code",
   "execution_count": null,
   "metadata": {},
   "outputs": [],
   "source": []
  }
 ],
 "metadata": {
  "kernelspec": {
   "display_name": "Python 3",
   "language": "python",
   "name": "python3"
  },
  "language_info": {
   "codemirror_mode": {
    "name": "ipython",
    "version": 3
   },
   "file_extension": ".py",
   "mimetype": "text/x-python",
   "name": "python",
   "nbconvert_exporter": "python",
   "pygments_lexer": "ipython3",
   "version": "3.7.6"
  }
 },
 "nbformat": 4,
 "nbformat_minor": 4
}
