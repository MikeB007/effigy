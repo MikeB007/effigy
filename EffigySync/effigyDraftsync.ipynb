{
 "cells": [
  {
   "cell_type": "code",
   "execution_count": 105,
   "metadata": {},
   "outputs": [],
   "source": [
    "#effigy sync process\n",
    "\n",
    "import os\n",
    "from datetime import datetime\n",
    "from PIL import Image \n",
    "\n",
    "import mysql.connector\n",
    "from mysql.connector import errorcode\n",
    "import logging\n",
    "\n",
    "\n",
    "logging.basicConfig(level=logging.DEBUG, filename='effigySync.log', format='%(asctime)s %(name)s %(levelname)s:%(message)s')\n",
    "logger = logging.getLogger(__name__)\n"
   ]
  },
  {
   "cell_type": "code",
   "execution_count": 106,
   "metadata": {},
   "outputs": [],
   "source": [
    "\n",
    "#SOURCEPATH='Y:/server/EFFIGY_PICS'\n",
    "SOURCEPATH='Y:/server/EFFIGY_PICS2'\n",
    "#SOURCEPATH = 'C:/Users/user/Pictures'\n"
   ]
  },
  {
   "cell_type": "code",
   "execution_count": 107,
   "metadata": {},
   "outputs": [],
   "source": [
    "def fixSlashes(val):\n",
    "    val = val.replace('\\\\', '/')\n",
    "    return val   \n"
   ]
  },
  {
   "cell_type": "code",
   "execution_count": 108,
   "metadata": {},
   "outputs": [],
   "source": [
    "def getDt():\n",
    "    now = datetime.now()\n",
    "    dt = now.strftime('%Y-%m-%d %H:%M:%S')\n",
    "    return(dt)\n"
   ]
  },
  {
   "cell_type": "code",
   "execution_count": 109,
   "metadata": {},
   "outputs": [
    {
     "data": {
      "text/plain": [
       "'2020-04-15 15:46:47'"
      ]
     },
     "execution_count": 109,
     "metadata": {},
     "output_type": "execute_result"
    }
   ],
   "source": [
    "getDt()"
   ]
  },
  {
   "cell_type": "code",
   "execution_count": 110,
   "metadata": {},
   "outputs": [],
   "source": [
    "\n",
    "a=set()\n",
    "#folders = []\n",
    "# r=root, d=directories, f = files\n",
    "for r, d, f in os.walk(SOURCEPATH):       \n",
    "    for f1 in f:\n",
    "        ext = os.path.splitext(f1)[1]\n",
    "        a.add(ext) "
   ]
  },
  {
   "cell_type": "code",
   "execution_count": 111,
   "metadata": {},
   "outputs": [],
   "source": [
    "def getID(tbl,thisid, key,val):\n",
    "    try:\n",
    "        mydb = mysql.connector.connect(user='kogutc', password='Passw0rd',host='127.0.0.1',database='effigy',auth_plugin='mysql_native_password')\n",
    "        mycursor = mydb.cursor()\n",
    "        ssql = \"select \" + thisid + \" from \" +  tbl  + \" where \" + key + \"= %s\"\n",
    "        #print (ssql)\n",
    "        mycursor.execute(ssql, (val,))\n",
    "        rows = mycursor.fetchall()\n",
    "        columns = [desc[0] for desc in mycursor.description]\n",
    "        newid = []\n",
    "        for row in rows:\n",
    "            # we dont need json or column names only one row returned\n",
    "            #row = dict(zip(columns, row))\n",
    "            newid.append(row)\n",
    "    except Exception as err:\n",
    "        logger.error(err)\n",
    "        if err.errno == errorcode.ER_ACCESS_DENIED_ERROR:\n",
    "            custError = \"Something is wrong with your user name or password\"+val\n",
    "        elif err.errno == errorcode.ER_BAD_DB_ERROR:\n",
    "            custError = \"Database does not exists\"\n",
    "        else:\n",
    "            custError = err\n",
    "        print(custError)\n",
    "        logger.error(custError)\n",
    "        mycursor.close()\n",
    "        mydb.close()\n",
    "    else:\n",
    "        custError = \"getID - Completed OK!:\" + val\n",
    "        logger.info(custError)\n",
    "        mycursor.close()\n",
    "        mydb.close()\n",
    "        logger.info(\"getID DB Closed\"+ val)\n",
    "        # obejct is a tuple we retrieve only id\n",
    "        print(newid)\n",
    "        if len(newid) >= 1:\n",
    "            id = newid[0][0]\n",
    "        else:\n",
    "            id = -1\n",
    "        return (id)"
   ]
  },
  {
   "cell_type": "code",
   "execution_count": 112,
   "metadata": {},
   "outputs": [],
   "source": [
    "def getImageID(tbl,thisid, key,val,key2,val2):\n",
    "    try:\n",
    "        mydb = mysql.connector.connect(user='kogutc', password='Passw0rd',host='127.0.0.1',database='effigy',auth_plugin='mysql_native_password')\n",
    "        mycursor = mydb.cursor()\n",
    "        ssql = \"select \" + thisid + \" from \" +  tbl  + \" where \" + key + \"= %s and  \" + key2 + \"= %s\"\n",
    "        #print (ssql)\n",
    "        mycursor.execute(ssql, (fixSlashes(val),val2,))\n",
    "        rows = mycursor.fetchall()\n",
    "        columns = [desc[0] for desc in mycursor.description]\n",
    "        newid = []\n",
    "        for row in rows:\n",
    "            # we dont need json or column names only one row returned\n",
    "            #row = dict(zip(columns, row))\n",
    "            newid.append(row)\n",
    "    except Exception as err:\n",
    "        logger.error(err)\n",
    "        if err.errno == errorcode.ER_ACCESS_DENIED_ERROR:\n",
    "            custError = \"Something is wrong with your user name or password\"+val\n",
    "        elif err.errno == errorcode.ER_BAD_DB_ERROR:\n",
    "            custError = \"Database does not exists\"\n",
    "        else:\n",
    "            custError = err\n",
    "        print(custError)\n",
    "        logger.error(custError)\n",
    "        mycursor.close()\n",
    "        mydb.close()\n",
    "    else:\n",
    "        custError = \"getID - Completed OK!:\" + val\n",
    "        logger.info(custError)\n",
    "        mycursor.close()\n",
    "        mydb.close()\n",
    "        logger.info(\"getID DB Closed\"+ val)\n",
    "        # obejct is a tuple we retrieve only id\n",
    "        print(newid)\n",
    "        if len(newid) >= 1:\n",
    "            id = newid[0][0]\n",
    "        else:\n",
    "            id = -1\n",
    "        return (id)"
   ]
  },
  {
   "cell_type": "code",
   "execution_count": 113,
   "metadata": {},
   "outputs": [
    {
     "name": "stdout",
     "output_type": "stream",
     "text": [
      "[]\n"
     ]
    }
   ],
   "source": [
    "newid= getImageID(\"media\",\"media_id\", \"path\",\"c:\\\\\",\"name\",\"test.jpg\")"
   ]
  },
  {
   "cell_type": "code",
   "execution_count": 114,
   "metadata": {},
   "outputs": [],
   "source": [
    "def getValidExtensions():\n",
    "    try:\n",
    "        mydb = mysql.connector.connect(user='kogutc', password='Passw0rd',host='127.0.0.1',database='effigy',auth_plugin='mysql_native_password')\n",
    "        mycursor = mydb.cursor()\n",
    "        ssql = \"select extension from supported_ext order by 1\"\n",
    "        mycursor.execute(ssql)\n",
    "        rows = mycursor.fetchall()\n",
    "        columns = [desc[0] for desc in mycursor.description]\n",
    "        rec = []\n",
    "        for row in rows:\n",
    "            # we dont need json or column names only one row returned\n",
    "            #row = dict(zip(columns, row))\n",
    "            rec.append(row)\n",
    "    except Exception as err:\n",
    "        logger.error(err)\n",
    "        if err.errno == errorcode.ER_ACCESS_DENIED_ERROR:\n",
    "            custError = \"Something is wrong with your user name or password\"+val\n",
    "        elif err.errno == errorcode.ER_BAD_DB_ERROR:\n",
    "            custError = \"Database does not exists\"\n",
    "        else:\n",
    "            custError = err\n",
    "        print(custError)\n",
    "        logger.error(custError)\n",
    "        mycursor.close()\n",
    "        mydb.close()\n",
    "    else:\n",
    "        custError = \"getID - Completed OK!:\"\n",
    "        logger.info(custError)\n",
    "        mycursor.close()\n",
    "        mydb.close()\n",
    "        logger.info(\"getID DB Closed\")\n",
    "        # converting it to a SET, fast lookup\n",
    "        ext_set=set()  \n",
    "        for i in rec:\n",
    "            ext_set.add (i[0])\n",
    "        return (ext_set)"
   ]
  },
  {
   "cell_type": "code",
   "execution_count": 115,
   "metadata": {},
   "outputs": [],
   "source": [
    "def getSkipFolder():\n",
    "    try:\n",
    "        mydb = mysql.connector.connect(user='kogutc', password='Passw0rd',host='127.0.0.1',database='effigy',auth_plugin='mysql_native_password')\n",
    "        mycursor = mydb.cursor()\n",
    "        ssql = \"select skip_root from skip_root\"\n",
    "        mycursor.execute(ssql)\n",
    "        rows = mycursor.fetchall()\n",
    "        columns = [desc[0] for desc in mycursor.description]\n",
    "        rec = []\n",
    "        for row in rows:\n",
    "            # we dont need json or column names only one row returned\n",
    "            #row = dict(zip(columns, row))\n",
    "            rec.append(row)\n",
    "    except Exception as err:\n",
    "        logger.error(err)\n",
    "        if err.errno == errorcode.ER_ACCESS_DENIED_ERROR:\n",
    "            custError = \"Something is wrong with your user name or password\"+val\n",
    "        elif err.errno == errorcode.ER_BAD_DB_ERROR:\n",
    "            custError = \"Database does not exists\"\n",
    "        else:\n",
    "            custError = err\n",
    "        print(custError)\n",
    "        logger.error(custError)\n",
    "        mycursor.close()\n",
    "        mydb.close()\n",
    "    else:\n",
    "        custError = \"getID - Completed OK!:\"\n",
    "        logger.info(custError)\n",
    "        mycursor.close()\n",
    "        mydb.close()\n",
    "        logger.info(\"getID DB Closed\")\n",
    "        # converting it to a SET, fast lookup\n",
    "        _set=set()  \n",
    "        for i in rec:\n",
    "            _set.add (i[0])\n",
    "        return (_set)"
   ]
  },
  {
   "cell_type": "code",
   "execution_count": 116,
   "metadata": {},
   "outputs": [
    {
     "data": {
      "text/plain": [
       "{'Y:\\\\server\\\\EFFIGY_PICS2\\\\Zdjecia\\\\tomcat-ZDJECIA',\n",
       " 'Y:\\\\server\\\\EFFIGY_PICS\\\\Zdjecia\\\\tomcat-ZDJECIA'}"
      ]
     },
     "execution_count": 116,
     "metadata": {},
     "output_type": "execute_result"
    }
   ],
   "source": [
    "getSkipFolder()"
   ]
  },
  {
   "cell_type": "code",
   "execution_count": 117,
   "metadata": {},
   "outputs": [],
   "source": [
    "import functools \n",
    "import operator  \n",
    "def convertTuple(tup): \n",
    "    str1 =  ''.join(str(tup)) \n",
    "    return str1"
   ]
  },
  {
   "cell_type": "code",
   "execution_count": 118,
   "metadata": {},
   "outputs": [
    {
     "data": {
      "text/plain": [
       "{'.avi', '.jpeg', '.jpg', '.mov', '.mp3', '.mp4', '.mpg', '.png', '.wmv'}"
      ]
     },
     "execution_count": 118,
     "metadata": {},
     "output_type": "execute_result"
    }
   ],
   "source": [
    "#get valid extensions\n",
    "EXT = getValidExtensions()\n",
    "#  check\n",
    "'avi' in EXT\n",
    "EXT"
   ]
  },
  {
   "cell_type": "code",
   "execution_count": 119,
   "metadata": {},
   "outputs": [],
   "source": [
    "def insertRoot (root):\n",
    "    logger.info(\"Starting Request\")\n",
    "    try:\n",
    "        mydb = mysql.connector.connect(user='kogutc', password='Passw0rd',host='127.0.0.1',database='effigy',auth_plugin='mysql_native_password')\n",
    "        mycursor = mydb.cursor()\n",
    "        ssql = \"insert into loc_root values (null, %s)\"\n",
    "        root = fixSlashes(root)\n",
    "        #print (root)\n",
    "        mycursor.execute(ssql, (root,))\n",
    "        mydb.commit()\n",
    "        #get newly created ID\n",
    "        newid= getID(\"loc_root\",\"root_id\", \"root\",fixSlashes(root))\n",
    "    except Exception as err:\n",
    "        logger.error(err)\n",
    "        if err.errno == errorcode.ER_ACCESS_DENIED_ERROR:\n",
    "            custError = \"Something is wrong with your user name or password\"\n",
    "        elif err.errno == errorcode.ER_BAD_DB_ERROR:\n",
    "            custError = \"Database does not exists\"\n",
    "        else:\n",
    "            custError = err\n",
    "        print(custError)\n",
    "        logger.error(custError)\n",
    "        mycursor.close()\n",
    "        mydb.close()\n",
    "    else:\n",
    "        custError = \"Root-Completed OK!\"\n",
    "        logger.info(custError)\n",
    "        mycursor.close()\n",
    "        mydb.close()\n",
    "        logger.info(\"Root - DB Closed\")\n",
    "        return (newid)"
   ]
  },
  {
   "cell_type": "code",
   "execution_count": 120,
   "metadata": {},
   "outputs": [
    {
     "name": "stdout",
     "output_type": "stream",
     "text": [
      "[]\n"
     ]
    },
    {
     "data": {
      "text/plain": [
       "-1"
      ]
     },
     "execution_count": 120,
     "metadata": {},
     "output_type": "execute_result"
    }
   ],
   "source": [
    "getID(\"loc_folder\",\"folder_id\", \"folder_path\",\"C:ggg/Uffsssehhffrsggs/user/Pictures/2017-11111111111\")"
   ]
  },
  {
   "cell_type": "code",
   "execution_count": 121,
   "metadata": {},
   "outputs": [],
   "source": [
    "def insertFolder (root_id,root,folder,folderPath):\n",
    "    logger.info(\"Starting Request\")\n",
    "    try:\n",
    "        mydb = mysql.connector.connect(user='kogutc', password='Passw0rd',host='127.0.0.1',database='effigy',auth_plugin='mysql_native_password')\n",
    "        mycursor = mydb.cursor()\n",
    "        ssql = \"insert into loc_folder values (null,%s, %s,%s,%s)\"\n",
    "        root = fixSlashes(root)\n",
    "        folder = fixSlashes(folder)\n",
    "        folderPath = fixSlashes(folderPath)\n",
    "        #print (ssql)\n",
    "        mycursor.execute(ssql, (root_id,root,folder,folderPath,))\n",
    "        mydb.commit()\n",
    "        #get newly created ID\n",
    "        newid= getID(\"loc_folder\",\"folder_id\", \"folder_path\",fixSlashes(folderPath))\n",
    "    except Exception as err:\n",
    "        logger.error(err)\n",
    "        if err.errno == errorcode.ER_ACCESS_DENIED_ERROR:\n",
    "            custError = \"Something is wrong with your user name or password\"\n",
    "        elif err.errno == errorcode.ER_BAD_DB_ERROR:\n",
    "            custError = \"Database does not exists\"\n",
    "        else:\n",
    "            custError = err\n",
    "        print(custError)\n",
    "        logger.error(custError)\n",
    "        mycursor.close()\n",
    "        mydb.close()\n",
    "    else:\n",
    "        custError = \"Folder Completed OK!\"\n",
    "        logger.info(custError)\n",
    "        mycursor.close()\n",
    "        mydb.close()\n",
    "        logger.info(\"Folder check DB Closed\")\n",
    "        return (newid)"
   ]
  },
  {
   "cell_type": "code",
   "execution_count": 122,
   "metadata": {},
   "outputs": [],
   "source": [
    "def skipRoot(root):\n",
    "    skip=False\n",
    "    toSkip=\"Y:\\server\\EFFIGY_PICS\\Zdjecia\\\\tomcat-ZDJECIA\"\n",
    "    if len(root) >= len(toSkip):\n",
    "        if (fixSlashes(toSkip).upper() == fixSlashes(root[:len(toSkip)]).upper())  :\n",
    "            skip=True\n",
    "    #else:\n",
    "    #    print(\"not matching length\")\n",
    "    return(skip)"
   ]
  },
  {
   "cell_type": "code",
   "execution_count": 123,
   "metadata": {},
   "outputs": [],
   "source": [
    "def skipFolder(root):\n",
    "    skip=False\n",
    "    toSkip=getSkipFolder()\n",
    "    for folder in toSkip:\n",
    "        if len(root) >= len(folder):\n",
    "            print(folder)\n",
    "            print(fixSlashes(folder).upper())\n",
    "            print(fixSlashes(root[:len(folder)]).upper()) \n",
    "            if (fixSlashes(folder).upper() == fixSlashes(root[:len(folder)]).upper())  :\n",
    "                skip=True\n",
    "                return(skip)\n",
    "    return(skip)\n",
    "        \n"
   ]
  },
  {
   "cell_type": "code",
   "execution_count": 124,
   "metadata": {},
   "outputs": [
    {
     "data": {
      "text/plain": [
       "False"
      ]
     },
     "execution_count": 124,
     "metadata": {},
     "output_type": "execute_result"
    }
   ],
   "source": [
    "skipFolder(\"dds\")"
   ]
  },
  {
   "cell_type": "code",
   "execution_count": 125,
   "metadata": {},
   "outputs": [
    {
     "name": "stdout",
     "output_type": "stream",
     "text": [
      "Y:\\server\\EFFIGY_PICS2\\Zdjecia\\tomcat-ZDJECIA\n",
      "Y:/SERVER/EFFIGY_PICS2/ZDJECIA/TOMCAT-ZDJECIA\n",
      "Y:/SERVER/EFFIGY_PICS2/ZDJECIA/TOMCAT-ZDJECIA\n"
     ]
    },
    {
     "data": {
      "text/plain": [
       "True"
      ]
     },
     "execution_count": 125,
     "metadata": {},
     "output_type": "execute_result"
    }
   ],
   "source": [
    "skipFolder(\"Y:\\server\\EFFIGY_PICS2/Zdjecia\\\\tomcat-ZDJECIA\")"
   ]
  },
  {
   "cell_type": "code",
   "execution_count": 126,
   "metadata": {},
   "outputs": [],
   "source": [
    "#newid = insertFolder(1, \"C:/Users/user/Pictures\",\"2017-1111\", \"C:ggg/Uffsssehhffrsggs/user/Pictures/2017-1221111111111\")\n",
    "#newid"
   ]
  },
  {
   "cell_type": "code",
   "execution_count": 127,
   "metadata": {},
   "outputs": [],
   "source": [
    "def inserImage (key,file_name,media_type,folder_id,path, parent_folder_id,parent_folder,attrib_id,ext):\n",
    "    logger.info(\"Saving image\")\n",
    "    print(key,file_name,media_type,folder_id,path, parent_folder_id,parent_folder,attrib_id,ext)\n",
    "    try:\n",
    "        mydb = mysql.connector.connect(user='kogutc', password='Passw0rd',host='127.0.0.1',database='effigy',auth_plugin='mysql_native_password')\n",
    "        mycursor = mydb.cursor()\n",
    "        ssql = \"insert into media values (null,%s,%s,%s,%s,%s,%s,%s,%s,%s,%s,%s,%s,%s)\"\n",
    "        path = fixSlashes(path)\n",
    "        parent_folder = fixSlashes(parent_folder)\n",
    "        #print (ssql)\n",
    "        mycursor.execute(ssql, ( key,file_name,media_type,folder_id,path,parent_folder_id,parent_folder,\"sDesc\",file_name,0,ext,getDt(),getDt()))\n",
    "        mydb.commit()\n",
    "        #get newly created ID\n",
    "        newid= getImageID(\"media\",\"media_id\", \"path\",path,\"name\",file_name)\n",
    "    except Exception as err:\n",
    "        logger.error(err)\n",
    "        if err.errno == errorcode.ER_ACCESS_DENIED_ERROR:\n",
    "            custError = \"Something is wrong with your user name or password\"\n",
    "        elif err.errno == errorcode.ER_BAD_DB_ERROR:\n",
    "            custError = \"Database does not exists\"\n",
    "        else:\n",
    "            custError = err\n",
    "        print(custError)\n",
    "        logger.error(custError)\n",
    "        mycursor.close()\n",
    "        mydb.close()\n",
    "    else:\n",
    "        custError = \"Folder Completed OK!\"\n",
    "        logger.info(custError)\n",
    "        mycursor.close()\n",
    "        mydb.close()\n",
    "        logger.info(\"Folder check DB Closed\")\n",
    "        return (newid)"
   ]
  },
  {
   "cell_type": "code",
   "execution_count": 128,
   "metadata": {},
   "outputs": [],
   "source": [
    "def importFoldersAndImages ():\n",
    "    #get Valid extensions first\n",
    "    c=0\n",
    "    EXT = getValidExtensions()\n",
    "    #  check\n",
    "    '' in EXT\n",
    "    print(EXT)\n",
    "    for r, d, f in os.walk(SOURCEPATH):\n",
    "        #print(\"dir\",d,r)\n",
    "        if len(d) >0:\n",
    "            if  skipRoot(r):\n",
    "                print(\"Skipped Root:\",r)\n",
    "            else:\n",
    "                idR = insertRoot(r)\n",
    "                #print(\"Processed Root:\",idR,r)\n",
    "                for dir in d:\n",
    "                    #print (\"will INSERT dir:\",idR,dir)\n",
    "                    #print(\"about to insert\", idR,r,dir,r + '/' + dir)\n",
    "                    idF = insertFolder(idR,r,dir,r + \"/\"+ dir)\n",
    "                    #print(\"Created folder\",idF)\n",
    "                    pth = r +\"/\"+dir\n",
    "                    #print(\"path\", pth)\n",
    "                    files = [f for f in os.listdir(pth) if os.path.isfile(os.path.join(pth,f))]\n",
    "                    for f in files:\n",
    "                        file_ext= os.path.splitext(f)[1].lower()\n",
    "                        if (file_ext in EXT):\n",
    "                            #print(\"Processing:\" + f)\n",
    "                            key=r +\"/\"+dir + \"/\" + f\n",
    "                            #inserImage(file_name,media_type,folder_id,path, parent_folder_id,parent_folder,attrib_id,ext):                       \n",
    "                            idM = inserImage(key,f,'P',idF, r +\"/\"+dir, idR,r,\"\",file_ext)\n",
    "                            #print(idM)\n",
    "                           \n",
    "    return(c)                    \n",
    "                    \n",
    "    \n",
    "                    \n",
    "                    \n",
    "                \n",
    "        \n",
    "    "
   ]
  },
  {
   "cell_type": "code",
   "execution_count": 129,
   "metadata": {
    "scrolled": true
   },
   "outputs": [
    {
     "name": "stdout",
     "output_type": "stream",
     "text": [
      "{'.mov', '.mp3', '.mp4', '.jpeg', '.wmv', '.png', '.jpg', '.mpg', '.avi'}\n",
      "[(7,)]\n",
      "[(9,)]\n",
      "Y:/server/EFFIGY_PICS2/Zdjecia/20041008 001.JPG 20041008 001.JPG P 9 Y:/server/EFFIGY_PICS2/Zdjecia 7 Y:/server/EFFIGY_PICS2  .jpg\n",
      "[(13,)]\n",
      "Y:/server/EFFIGY_PICS2/Zdjecia/20041008 002.jpg 20041008 002.jpg P 9 Y:/server/EFFIGY_PICS2/Zdjecia 7 Y:/server/EFFIGY_PICS2  .jpg\n",
      "[(14,)]\n",
      "[(8,)]\n",
      "[(10,)]\n",
      "Y:/server/EFFIGY_PICS2\\Zdjecia/other/IMG_0025.jpg IMG_0025.jpg P 10 Y:/server/EFFIGY_PICS2\\Zdjecia/other 8 Y:/server/EFFIGY_PICS2\\Zdjecia  .jpg\n",
      "[(15,)]\n",
      "Y:/server/EFFIGY_PICS2\\Zdjecia/other/IMG_0028.jpg IMG_0028.jpg P 10 Y:/server/EFFIGY_PICS2\\Zdjecia/other 8 Y:/server/EFFIGY_PICS2\\Zdjecia  .jpg\n",
      "[(16,)]\n",
      "Y:/server/EFFIGY_PICS2\\Zdjecia/other/IMG_0131.jpg IMG_0131.jpg P 10 Y:/server/EFFIGY_PICS2\\Zdjecia/other 8 Y:/server/EFFIGY_PICS2\\Zdjecia  .jpg\n",
      "[(17,)]\n",
      "Y:/server/EFFIGY_PICS2\\Zdjecia/other/IMG_0132.jpg IMG_0132.jpg P 10 Y:/server/EFFIGY_PICS2\\Zdjecia/other 8 Y:/server/EFFIGY_PICS2\\Zdjecia  .jpg\n",
      "[(18,)]\n",
      "[(11,)]\n",
      "[(9,)]\n",
      "[(12,)]\n",
      "total: 0\n"
     ]
    }
   ],
   "source": [
    "c= importFoldersAndImages()\n",
    "print (\"total:\",c)"
   ]
  },
  {
   "cell_type": "code",
   "execution_count": 130,
   "metadata": {},
   "outputs": [],
   "source": [
    "def getImages():\n",
    "    try:\n",
    "        mydb = mysql.connector.connect(user='kogutc', password='Passw0rd',host='127.0.0.1',database='effigy',auth_plugin='mysql_native_password')\n",
    "        mycursor = mydb.cursor()\n",
    "        ssql = \"select media_id,path, name, media_key,media_type_id from media\"\n",
    "        #print (ssql)\n",
    "        mycursor.execute(ssql)\n",
    "        rows = mycursor.fetchall()\n",
    "        columns = [desc[0] for desc in mycursor.description]\n",
    "        rec = []\n",
    "        for row in rows:\n",
    "            # we dont need json or column names only one row returned\n",
    "            #row = dict(zip(columns, row))\n",
    "            rec.append(row)\n",
    "    except Exception as err:\n",
    "        logger.error(err)\n",
    "        if err.errno == errorcode.ER_ACCESS_DENIED_ERROR:\n",
    "            custError = \"Something is wrong with your user name or password\"+val\n",
    "        elif err.errno == errorcode.ER_BAD_DB_ERROR:\n",
    "            custError = \"Database does not exists\"\n",
    "        else:\n",
    "            custError = err\n",
    "        print(custError)\n",
    "        logger.error(custError)\n",
    "        mycursor.close()\n",
    "        mydb.close()\n",
    "    else:\n",
    "        custError = \"getID - Completed OK!:\"\n",
    "        logger.info(custError)\n",
    "        mycursor.close()\n",
    "        mydb.close()\n",
    "        logger.info(\"getID DB Closed\")\n",
    "        _set=set()  \n",
    "        for i in rec:\n",
    "            _set.add (i)\n",
    "        return (_set)"
   ]
  },
  {
   "cell_type": "code",
   "execution_count": 131,
   "metadata": {},
   "outputs": [],
   "source": [
    "def getImageExifAttributes(pth):\n",
    "    exif= {}\n",
    "    ex=\"\"\n",
    "    # Read image \n",
    "    img = Image.open(path) \n",
    "    dic = img._getexif()\n",
    "    exif[\"WIDTH\"] =  str(dic.get(40963)) \n",
    "    exif[\"HEIGHT\"] = str( dic.get(40962))\n",
    "    exif[\"CAMERA\"] = str( dic.get(271))\n",
    "    exif[\"MODEL\"] =  str(dic.get(272))\n",
    "    exif[\"DTTAKEN\"] = str( dic.get(36868))\n",
    "    exif[\"DTMODIFY\"] = str( dic.get(36867))\n",
    "    exif[\"FSTOP\"] =  str(dic.get(42036))\n",
    "    exif[\"EXPOSURE\"] =  str(dic.get(40960))\n",
    "    exif[\"ORIENTATION\"] = str( dic.get(274))\n",
    "    exif[\"FLASH\"] =  str(dic.get(7385))\n",
    "    exif[\"SHUTTER\"] =  str(dic.get(37377))\n",
    "    exif[\"APERTURE\"] = str( dic.get(37378))\n",
    "    exif[\"ISOSPEED\"] = str( dic.get(34855))\n",
    "    exif[\"DIGIZOOM\"] =  str(dic.get(41988))\n",
    "    for x in dic:\n",
    "         if x != 37500 and x != 37510:\n",
    "            ex= ex + (str(x) +  \":\" +  str(dic.get(x)) + chr(13) +chr(10) )  \n",
    "    exif[\"EXIF\"] =  str(ex) \n",
    "    return(exif)"
   ]
  },
  {
   "cell_type": "code",
   "execution_count": 132,
   "metadata": {},
   "outputs": [],
   "source": [
    "def inserMediaAttributes (width, height, camera, model, dttaken, dtmodify,\\\n",
    "                          fstop, exposure, orientation, flash, shutter, aperture,\\\n",
    "                          isospeed,  digizoom,  exif,  media_id ,media_key):\n",
    "    logger.info(\"Saving Attributes\" + media_key)\n",
    "    #print(key,file_name,media_type,folder_id,path, parent_folder_id,parent_folder,attrib_id,ext)\n",
    "    try:\n",
    "        mydb = mysql.connector.connect(user='kogutc', password='Passw0rd',host='127.0.0.1',database='effigy',auth_plugin='mysql_native_password')\n",
    "        mycursor = mydb.cursor()\n",
    "        ssql = \"insert into attrib values (null,%s,%s,%s,%s,%s,%s,%s,%s,%s,%s,%s,%s,%s,%s,%s,%s,%s,%s)\"\n",
    "        #print (ssql)\n",
    "        mycursor.execute(ssql, ( width, height, camera, model, dttaken, dtmodify,\\\n",
    "                          fstop,  exposure, orientation, flash, shutter, aperture,\\\n",
    "                          isospeed, digizoom, exif, media_id, media_key, getDt()))\n",
    "        mydb.commit()\n",
    "        #get newly created ID\n",
    "        newid= getID(\"attrib\",\"attrib_id\", \"media_id\",media_id)\n",
    "    except Exception as err:\n",
    "        logger.error(err)\n",
    "        if err.errno == errorcode.ER_ACCESS_DENIED_ERROR:\n",
    "            custError = \"Something is wrong with your user name or password\"\n",
    "        elif err.errno == errorcode.ER_BAD_DB_ERROR:\n",
    "            custError = \"Database does not exists\"\n",
    "        else:\n",
    "            custError = err\n",
    "        print(custError)\n",
    "        logger.error(custError)\n",
    "        mycursor.close()\n",
    "        mydb.close()\n",
    "    else:\n",
    "        custError = \"Folder Completed OK!\"\n",
    "        logger.info(custError)\n",
    "        mycursor.close()\n",
    "        mydb.close()\n",
    "        logger.info(\"Folder check DB Closed\")\n",
    "        return (newid)"
   ]
  },
  {
   "cell_type": "code",
   "execution_count": 133,
   "metadata": {},
   "outputs": [],
   "source": [
    "def updateAttributes():\n",
    "    img_set = getImages()\n",
    "    for media_id,path,fname, media_key, media_type_id in img_set:\n",
    "        pth = fixSlashes(path +\"/\"+fname)\n",
    "        print(pth)\n",
    "        if media_type_id == 'P':\n",
    "            exif=getImageExifAttributes(pth)\n",
    "            print (len(exif[\"EXIF\"]))\n",
    "            idA = inserMediaAttributes(exif[\"WIDTH\"],exif[\"HEIGHT\"],exif[\"CAMERA\"],exif[\"MODEL\"],exif[\"DTTAKEN\"],exif[\"DTMODIFY\"],exif[\"FSTOP\"],exif[\"EXPOSURE\"],exif[\"ORIENTATION\"],exif[\"FLASH\"],exif[\"SHUTTER\"],exif[\"APERTURE\"],exif[\"ISOSPEED\"],exif[\"DIGIZOOM\"],exif[\"EXIF\"], media_id ,media_key)\n",
    "            #atrib_id,  width, height,  camera, model,  dttaken,  dtmodify,  fstop,  exposure,  orientation,  flash,  shutter,  aperture,  isospeed,  digizoom,  exif,  media_id ,media_key,'\n"
   ]
  },
  {
   "cell_type": "code",
   "execution_count": 134,
   "metadata": {},
   "outputs": [
    {
     "name": "stdout",
     "output_type": "stream",
     "text": [
      "Y:/server/EFFIGY_PICS2/Zdjecia/other/IMG_0131.jpg\n",
      "9416\n",
      "1054 (42S22): Unknown column 'attrib_id' in 'field list'\n",
      "Y:/server/EFFIGY_PICS2/Zdjecia/other/IMG_0132.jpg\n",
      "9416\n",
      "1054 (42S22): Unknown column 'attrib_id' in 'field list'\n",
      "Y:/server/EFFIGY_PICS2/Zdjecia/20041008 002.jpg\n",
      "9416\n",
      "1054 (42S22): Unknown column 'attrib_id' in 'field list'\n",
      "Y:/server/EFFIGY_PICS2/Zdjecia/20041008 001.JPG\n",
      "9416\n",
      "1054 (42S22): Unknown column 'attrib_id' in 'field list'\n",
      "Y:/server/EFFIGY_PICS2/Zdjecia/other/IMG_0028.jpg\n",
      "9416\n",
      "1054 (42S22): Unknown column 'attrib_id' in 'field list'\n",
      "Y:/server/EFFIGY_PICS2/Zdjecia/other/IMG_0025.jpg\n",
      "9416\n",
      "1054 (42S22): Unknown column 'attrib_id' in 'field list'\n"
     ]
    }
   ],
   "source": [
    "updateAttributes()"
   ]
  },
  {
   "cell_type": "code",
   "execution_count": 135,
   "metadata": {},
   "outputs": [
    {
     "name": "stdout",
     "output_type": "stream",
     "text": [
      "Y:/server/EFFIGY_PICS2/Zdjecia/other/IMG_0131.jpg\n"
     ]
    },
    {
     "ename": "PermissionError",
     "evalue": "[Errno 13] Permission denied: 'Y:/server/EFFIGY_PICS2/Zdjecia/other'",
     "output_type": "error",
     "traceback": [
      "\u001b[1;31m---------------------------------------------------------------------------\u001b[0m",
      "\u001b[1;31mPermissionError\u001b[0m                           Traceback (most recent call last)",
      "\u001b[1;32m<ipython-input-135-b4a3bf4e35e2>\u001b[0m in \u001b[0;36m<module>\u001b[1;34m\u001b[0m\n\u001b[0;32m      4\u001b[0m     \u001b[0mprint\u001b[0m\u001b[1;33m(\u001b[0m\u001b[0mpth\u001b[0m\u001b[1;33m)\u001b[0m\u001b[1;33m\u001b[0m\u001b[1;33m\u001b[0m\u001b[0m\n\u001b[0;32m      5\u001b[0m     \u001b[1;32mif\u001b[0m \u001b[0mmedia_type_id\u001b[0m \u001b[1;33m==\u001b[0m \u001b[1;34m'P'\u001b[0m\u001b[1;33m:\u001b[0m\u001b[1;33m\u001b[0m\u001b[1;33m\u001b[0m\u001b[0m\n\u001b[1;32m----> 6\u001b[1;33m         \u001b[0mexif\u001b[0m\u001b[1;33m=\u001b[0m\u001b[0mgetImageExifAttributes\u001b[0m\u001b[1;33m(\u001b[0m\u001b[0mpth\u001b[0m\u001b[1;33m)\u001b[0m\u001b[1;33m\u001b[0m\u001b[1;33m\u001b[0m\u001b[0m\n\u001b[0m\u001b[0;32m      7\u001b[0m         \u001b[0mprint\u001b[0m \u001b[1;33m(\u001b[0m\u001b[0mlen\u001b[0m\u001b[1;33m(\u001b[0m\u001b[0mexif\u001b[0m\u001b[1;33m[\u001b[0m\u001b[1;34m\"EXIF\"\u001b[0m\u001b[1;33m]\u001b[0m\u001b[1;33m)\u001b[0m\u001b[1;33m)\u001b[0m\u001b[1;33m\u001b[0m\u001b[1;33m\u001b[0m\u001b[0m\n\u001b[0;32m      8\u001b[0m \u001b[1;33m\u001b[0m\u001b[0m\n",
      "\u001b[1;32m<ipython-input-131-31eb04c6b303>\u001b[0m in \u001b[0;36mgetImageExifAttributes\u001b[1;34m(pth)\u001b[0m\n\u001b[0;32m      3\u001b[0m     \u001b[0mex\u001b[0m\u001b[1;33m=\u001b[0m\u001b[1;34m\"\"\u001b[0m\u001b[1;33m\u001b[0m\u001b[1;33m\u001b[0m\u001b[0m\n\u001b[0;32m      4\u001b[0m     \u001b[1;31m# Read image\u001b[0m\u001b[1;33m\u001b[0m\u001b[1;33m\u001b[0m\u001b[1;33m\u001b[0m\u001b[0m\n\u001b[1;32m----> 5\u001b[1;33m     \u001b[0mimg\u001b[0m \u001b[1;33m=\u001b[0m \u001b[0mImage\u001b[0m\u001b[1;33m.\u001b[0m\u001b[0mopen\u001b[0m\u001b[1;33m(\u001b[0m\u001b[0mpath\u001b[0m\u001b[1;33m)\u001b[0m\u001b[1;33m\u001b[0m\u001b[1;33m\u001b[0m\u001b[0m\n\u001b[0m\u001b[0;32m      6\u001b[0m     \u001b[0mdic\u001b[0m \u001b[1;33m=\u001b[0m \u001b[0mimg\u001b[0m\u001b[1;33m.\u001b[0m\u001b[0m_getexif\u001b[0m\u001b[1;33m(\u001b[0m\u001b[1;33m)\u001b[0m\u001b[1;33m\u001b[0m\u001b[1;33m\u001b[0m\u001b[0m\n\u001b[0;32m      7\u001b[0m     \u001b[0mexif\u001b[0m\u001b[1;33m[\u001b[0m\u001b[1;34m\"WIDTH\"\u001b[0m\u001b[1;33m]\u001b[0m \u001b[1;33m=\u001b[0m  \u001b[0mstr\u001b[0m\u001b[1;33m(\u001b[0m\u001b[0mdic\u001b[0m\u001b[1;33m.\u001b[0m\u001b[0mget\u001b[0m\u001b[1;33m(\u001b[0m\u001b[1;36m40963\u001b[0m\u001b[1;33m)\u001b[0m\u001b[1;33m)\u001b[0m\u001b[1;33m\u001b[0m\u001b[1;33m\u001b[0m\u001b[0m\n",
      "\u001b[1;32m~\\Anaconda2\\envs\\ForTensorFlow\\lib\\site-packages\\PIL\\Image.py\u001b[0m in \u001b[0;36mopen\u001b[1;34m(fp, mode)\u001b[0m\n\u001b[0;32m   2807\u001b[0m \u001b[1;33m\u001b[0m\u001b[0m\n\u001b[0;32m   2808\u001b[0m     \u001b[1;32mif\u001b[0m \u001b[0mfilename\u001b[0m\u001b[1;33m:\u001b[0m\u001b[1;33m\u001b[0m\u001b[1;33m\u001b[0m\u001b[0m\n\u001b[1;32m-> 2809\u001b[1;33m         \u001b[0mfp\u001b[0m \u001b[1;33m=\u001b[0m \u001b[0mbuiltins\u001b[0m\u001b[1;33m.\u001b[0m\u001b[0mopen\u001b[0m\u001b[1;33m(\u001b[0m\u001b[0mfilename\u001b[0m\u001b[1;33m,\u001b[0m \u001b[1;34m\"rb\"\u001b[0m\u001b[1;33m)\u001b[0m\u001b[1;33m\u001b[0m\u001b[1;33m\u001b[0m\u001b[0m\n\u001b[0m\u001b[0;32m   2810\u001b[0m         \u001b[0mexclusive_fp\u001b[0m \u001b[1;33m=\u001b[0m \u001b[1;32mTrue\u001b[0m\u001b[1;33m\u001b[0m\u001b[1;33m\u001b[0m\u001b[0m\n\u001b[0;32m   2811\u001b[0m \u001b[1;33m\u001b[0m\u001b[0m\n",
      "\u001b[1;31mPermissionError\u001b[0m: [Errno 13] Permission denied: 'Y:/server/EFFIGY_PICS2/Zdjecia/other'"
     ]
    }
   ],
   "source": [
    "\n",
    "img_set = getImages()\n",
    "for media_id,path,fname, media_key, media_type_id in img_set:\n",
    "    pth = fixSlashes(path +\"/\"+fname)\n",
    "    print(pth)\n",
    "    if media_type_id == 'P':\n",
    "        exif=getImageExifAttributes(pth)\n",
    "        print (len(exif[\"EXIF\"]))\n",
    "\n",
    "    "
   ]
  },
  {
   "cell_type": "code",
   "execution_count": 97,
   "metadata": {},
   "outputs": [
    {
     "name": "stdout",
     "output_type": "stream",
     "text": [
      "(192, 32)\n",
      "(192, 32)\n",
      "(192, 32)\n"
     ]
    }
   ],
   "source": [
    "exif = getImageExifAttributes(\"Y:/server/EFFIGY_PICS2\\\\Zdjecia/other/IMG_0025.jpg\")\n",
    "exif[\"WIDTH\"]\n",
    "#print(exif)\n",
    "\n",
    "#for e in exif:\n",
    "#    print(e)\n",
    "print(str(exif[\"APERTURE\"]))\n",
    "print(exif[\"APERTURE\"])\n",
    "print(convertTuple(exif[\"APERTURE\"]))\n",
    "#idA = inserMediaAttributes(exif[\"WIDTH\"],exif[\"HEIGHT\"],exif[\"CAMERA\"],exif[\"MODEL\"],exif[\"DTTAKEN\"],exif[\"DTMODIFY\"],exif[\"FSTOP\"],exif[\"EXPOSURE\"],exif[\"ORIENTATION\"],exif[\"FLASH\"],exif[\"SHUTTER\"],exif[\"APERTURE\"],exif[\"ISOSPEED\"],exif[\"DIGIZOOM\"],\"\",\"1\" ,\"1\")\n",
    "             "
   ]
  },
  {
   "cell_type": "code",
   "execution_count": 98,
   "metadata": {},
   "outputs": [
    {
     "name": "stdout",
     "output_type": "stream",
     "text": [
      "[]\n"
     ]
    },
    {
     "data": {
      "text/plain": [
       "-1"
      ]
     },
     "execution_count": 98,
     "metadata": {},
     "output_type": "execute_result"
    }
   ],
   "source": [
    "id = getID(\"loc_root\",\"root_id\",\"root\",\"C:/Users/user/Pictures/2018-06\")\n",
    "id"
   ]
  },
  {
   "cell_type": "code",
   "execution_count": 99,
   "metadata": {},
   "outputs": [
    {
     "data": {
      "text/plain": [
       "0"
      ]
     },
     "execution_count": 99,
     "metadata": {},
     "output_type": "execute_result"
    }
   ],
   "source": [
    "c\n"
   ]
  },
  {
   "cell_type": "code",
   "execution_count": 100,
   "metadata": {},
   "outputs": [
    {
     "name": "stdout",
     "output_type": "stream",
     "text": [
      "[]\n"
     ]
    },
    {
     "data": {
      "text/plain": [
       "-1"
      ]
     },
     "execution_count": 100,
     "metadata": {},
     "output_type": "execute_result"
    }
   ],
   "source": [
    "id = getID(\"loc_folder\",\"folder_id\",\"folder_path\",\"C:/Users/user/Pictures/2018-06\")\n",
    "id\n"
   ]
  },
  {
   "cell_type": "code",
   "execution_count": null,
   "metadata": {
    "scrolled": true
   },
   "outputs": [],
   "source": []
  },
  {
   "cell_type": "code",
   "execution_count": 101,
   "metadata": {},
   "outputs": [
    {
     "ename": "NameError",
     "evalue": "name 'getSampleData' is not defined",
     "output_type": "error",
     "traceback": [
      "\u001b[1;31m---------------------------------------------------------------------------\u001b[0m",
      "\u001b[1;31mNameError\u001b[0m                                 Traceback (most recent call last)",
      "\u001b[1;32m<ipython-input-101-de64f2537520>\u001b[0m in \u001b[0;36m<module>\u001b[1;34m\u001b[0m\n\u001b[1;32m----> 1\u001b[1;33m \u001b[0mgetSampleData\u001b[0m\u001b[1;33m(\u001b[0m\u001b[1;33m)\u001b[0m\u001b[1;33m\u001b[0m\u001b[1;33m\u001b[0m\u001b[0m\n\u001b[0m",
      "\u001b[1;31mNameError\u001b[0m: name 'getSampleData' is not defined"
     ]
    }
   ],
   "source": [
    "getSampleData()"
   ]
  },
  {
   "cell_type": "code",
   "execution_count": 102,
   "metadata": {},
   "outputs": [
    {
     "name": "stdout",
     "output_type": "stream",
     "text": [
      "MPO\n",
      "RGB\n"
     ]
    }
   ],
   "source": [
    "path = \"C:/GIT_REPOSITORY/REPO/effigy/imageLib/test.jpg\"\n",
    "from PIL import Image\n",
    "# Read image \n",
    "img = Image.open(path) \n",
    "  \n",
    "# Output Images \n",
    "img.show() \n",
    "\n",
    "# prints format of image \n",
    "print(img.format) \n",
    "\n",
    "# prints mode of image \n",
    "print(img.mode) "
   ]
  },
  {
   "cell_type": "code",
   "execution_count": 103,
   "metadata": {},
   "outputs": [],
   "source": [
    "for r, d, f in os.walk(path):\n",
    "    print (\"directory is: \", d)\n",
    "    "
   ]
  },
  {
   "cell_type": "code",
   "execution_count": 104,
   "metadata": {},
   "outputs": [
    {
     "ename": "NameError",
     "evalue": "name 'files' is not defined",
     "output_type": "error",
     "traceback": [
      "\u001b[1;31m---------------------------------------------------------------------------\u001b[0m",
      "\u001b[1;31mNameError\u001b[0m                                 Traceback (most recent call last)",
      "\u001b[1;32m<ipython-input-104-ea82c6b4c18a>\u001b[0m in \u001b[0;36m<module>\u001b[1;34m\u001b[0m\n\u001b[1;32m----> 1\u001b[1;33m \u001b[1;32mfor\u001b[0m \u001b[0mf\u001b[0m \u001b[1;32min\u001b[0m \u001b[0mfiles\u001b[0m\u001b[1;33m:\u001b[0m\u001b[1;33m\u001b[0m\u001b[1;33m\u001b[0m\u001b[0m\n\u001b[0m\u001b[0;32m      2\u001b[0m     \u001b[0mprint\u001b[0m\u001b[1;33m(\u001b[0m\u001b[0mf\u001b[0m\u001b[1;33m)\u001b[0m\u001b[1;33m\u001b[0m\u001b[1;33m\u001b[0m\u001b[0m\n\u001b[0;32m      3\u001b[0m \u001b[1;33m\u001b[0m\u001b[0m\n",
      "\u001b[1;31mNameError\u001b[0m: name 'files' is not defined"
     ]
    }
   ],
   "source": [
    "for f in files:\n",
    "    print(f)\n",
    "    "
   ]
  },
  {
   "cell_type": "code",
   "execution_count": null,
   "metadata": {},
   "outputs": [],
   "source": [
    "for r, d, f in os.walk(path):\n",
    "    print(f)"
   ]
  },
  {
   "cell_type": "code",
   "execution_count": null,
   "metadata": {},
   "outputs": [],
   "source": [
    "from PIL import Image\n",
    "import glob, os\n",
    "size = 128, 128\n",
    "for infile in glob.glob(path):\n",
    "    file, ext = os.path.splitext(infile)\n",
    "    im = Image.open(infile)\n",
    "    im.thumbnail(size)\n",
    "    im.save(file + \".thumbnail1.png\", \"PNG\")"
   ]
  },
  {
   "cell_type": "code",
   "execution_count": 138,
   "metadata": {
    "scrolled": true
   },
   "outputs": [
    {
     "name": "stdout",
     "output_type": "stream",
     "text": [
      "JPEG\n",
      "RGB\n"
     ]
    }
   ],
   "source": [
    "\n",
    "#path = \"C:/GIT_REPOSITORY/REPO/effigy/imageLib/geotag.jpg\"\n",
    "path= \"Y:/server/EFFIGY_PICS2/Zdjecia/other/IMG_0131.jpg\"\n",
    "# Python program to read \n",
    "# image using PIL module \n",
    "  \n",
    "# importing PIL \n",
    "from PIL import Image \n",
    "  \n",
    "# Read image \n",
    "img = Image.open(path) \n",
    "  \n",
    "# Output Images \n",
    "img.show() \n",
    "  \n",
    "# prints format of image \n",
    "print(img.format) \n",
    "  \n",
    "    \n",
    "    \n",
    "\n",
    "# prints mode of image \n",
    "print(img.mode) \n",
    "dic = img._getexif()\n",
    "width = dic.get(40963)\n",
    "height = dic.get(40962)\n",
    "camera = dic.get(271)\n",
    "model = dic.get(272)\n",
    "dttaken = dic.get(36868)\n",
    "dtmod= dic.get(36867)\n",
    "fstop= dic.get(42036)\n",
    "exposure = dic.get(40960) \n",
    "orientation=dic.get(274)\n",
    "flash = dic.get(7385)\n",
    "shutter = dic.get(37377)\n",
    "apperture=dic.get(37378) \n",
    "isospeed=dic.get(34855) \n",
    "digzoom=dic.get(41988)\n",
    "exif=\"\"\n"
   ]
  },
  {
   "cell_type": "code",
   "execution_count": null,
   "metadata": {},
   "outputs": [],
   "source": [
    "dttaken"
   ]
  },
  {
   "cell_type": "code",
   "execution_count": null,
   "metadata": {},
   "outputs": [],
   "source": [
    "exif=\"\"\n",
    "for x in dic:\n",
    "     if x != 37500:\n",
    "        exif= exif + (str(x) +  \":\" +  str(dic.get(x)) + chr(13) +chr(10) )  \n",
    "exif"
   ]
  },
  {
   "cell_type": "code",
   "execution_count": null,
   "metadata": {},
   "outputs": [],
   "source": [
    "for x in dic:\n",
    "    if x != 37500:\n",
    "     print(x,\":\", dic.get(x))"
   ]
  },
  {
   "cell_type": "code",
   "execution_count": null,
   "metadata": {},
   "outputs": [],
   "source": [
    "import os\n",
    "path = 'C:/Users/user/Pictures'\n",
    "roots = []\n",
    "# r=root, d=directories, f = files\n",
    "for r,d,f in os.walk(path):\n",
    "    print (r,d)\n",
    "    for f in d:\n",
    "       print(f)\n",
    "   "
   ]
  },
  {
   "cell_type": "code",
   "execution_count": null,
   "metadata": {},
   "outputs": [],
   "source": []
  },
  {
   "cell_type": "code",
   "execution_count": null,
   "metadata": {},
   "outputs": [],
   "source": [
    "  'ATRIB_ID,  WIDTH, HEIGHT,  CAMERA, MODEL,  DTTAKEN,  DTMODIFY,  FSTOP,  EXPOSURE,  ORIENTATION,  FLASH,  SHUTTER,  APERTURE,  ISOSPEED,  DIGIZOOM,  EXIF,  MEDIA_ID ,MEDIA_KEY,'.lower()\n",
    " "
   ]
  },
  {
   "cell_type": "code",
   "execution_count": null,
   "metadata": {},
   "outputs": [],
   "source": []
  }
 ],
 "metadata": {
  "kernelspec": {
   "display_name": "Python 3",
   "language": "python",
   "name": "python3"
  },
  "language_info": {
   "codemirror_mode": {
    "name": "ipython",
    "version": 3
   },
   "file_extension": ".py",
   "mimetype": "text/x-python",
   "name": "python",
   "nbconvert_exporter": "python",
   "pygments_lexer": "ipython3",
   "version": "3.7.6"
  }
 },
 "nbformat": 4,
 "nbformat_minor": 4
}
